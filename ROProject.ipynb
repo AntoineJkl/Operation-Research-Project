{
 "cells": [
  {
   "cell_type": "markdown",
   "metadata": {},
   "source": [
    "# Projet Recherche Opérationnelle"
   ]
  },
  {
   "cell_type": "markdown",
   "metadata": {},
   "source": [
    "Antoine GICQUEL \\\n",
    "Victor BERTRET \\\n",
    "4ème année Génie Mathématique \\\n",
    "Annéé universitaire 2020 - 2021"
   ]
  },
  {
   "cell_type": "markdown",
   "metadata": {},
   "source": [
    "*Importation des packages nécessaires:*"
   ]
  },
  {
   "cell_type": "code",
   "execution_count": 2,
   "metadata": {},
   "outputs": [],
   "source": [
    "from pulp import* #Package pulp : résolution de modèles PLNE\n",
    "import numpy as np \n",
    "import random as random"
   ]
  },
  {
   "cell_type": "markdown",
   "metadata": {},
   "source": [
    "## Introduction"
   ]
  },
  {
   "cell_type": "markdown",
   "metadata": {},
   "source": [
    "Ce projet a été réalisé dans le cadre du module de Recherche Opérationnelle de notre formation d'ingénieur au département Génie Mathématique de l'INSA de Rennes. L'objectif de ce projet était d'étudier le fonctionnement algorithme de Branch-and-Bound appliqué au problème d'ordonnancement qui est le suivant. On considère un atelier de production devant usiner un ensemble $J = \\{1,...,n\\}$ de pièces. On suppose que l'atelier ne dispose que d'une machine (le problème peut tout à fait être étendu au cas où l'atelier dispose de plusieurs machines). Chaque pièce $j\\in J$ nécessite $p_j$ unités de temps pour être usinée. De plus, à la date $t=0$, chaque pièce $j\\in J$ doit être usinée avant la date $d_j$. Si ce n'est pas le cas et que la pièce $j$ est prête après la date $d_j$ alors il faudra payer une pénalité de $\\omega_j$ par unité de temps de retard. On cherche à trouver l'ordre d'usinage des pièces minimisant la somme totale des pénalités de retard. \\\n",
    "Notons dés maintenant que ce problème peut être modélisé sous la forme d'un problème linéaire en nombres entiers que nous avons explicité ci-dessous :\n",
    "\n",
    "\n",
    "**Variables:**\n",
    "\n",
    " * $\\forall j \\in J, r_j \\ge 0$ est une variable réelle positive représentant le retard en unité de temps de la pièce $j$\n",
    " \n",
    " * $\\forall j \\in J, f_j \\ge 0$ est une variable réelle positive représentant la date de fin d'usinage de la pièce $j$\n",
    " \n",
    " * $\\forall (i,j)\\in J^2$, $x_{i,j} \\in \\{0,1\\}$ est une variable binaire prenant la valeur $1$ si la pièce $i$ passe avant la pièce $j$ et $0$ sinon\n",
    "\n",
    "**Objectif:**\n",
    "\n",
    "* On cherche à minimiser les pénalités de retard :\n",
    "\n",
    "$$ \\min{\\sum_{j\\in J}{\\omega_j r_j}}$$\n",
    "\n",
    "**Contraintes:**\n",
    "\n",
    "* On impose la contrainte suivante pour calculer le retard de chaque pièce :\n",
    "$$ r_j \\ge f_j - d_j,\\quad \\forall j \\in J$$\n",
    "\n",
    "* On impose la contrainte suivatne pour calculer la date de fin d'usinage de chaque pièce :\n",
    "$$ f_j = T_j + \\sum_{i \\in J \\\\ i\\neq j}{T_i x_{ij}} \\quad \\forall j \\in J$$\n",
    "\n",
    "* On impose enfin une relation d'ordre total sur le passage des pièces :\n",
    "$$ x_{ij} + x_{ji} = 1 \\quad \\forall (i,j) \\in J^2, \\: i < j$$\n",
    "$$ x_{ik} \\ge x_{ij} + x_{jk}-1\\quad \\forall (i,j,k) \\in J^3, \\: i<j, \\: i<k, j\\neq k$$\n",
    "\n",
    "\\\n",
    "Nos implémentations ont été réalisé sous Python et nous avons fait appel (lorsque c'était nécessaire) au package PuLP pour résoudres des modèles de PLNE.\n",
    "\n",
    "Nous avons dans un premier temps créé une structure de données permettant de représenter une instance du problème d'ordonnacement présenté ci-dessus. Nous avons ensuite créée une structure de données générique pour l'arbre d'énumération qui sera utilisé dans l'algorithme de Branch-and-Bound. Avec celle-ci, nous avons par la suite, implémenté l'algorithme de Branch-and-bound de manière générique en fragmentant ses différentes spécificités dans des sous-fonctions, ceci nous a notament permis de tester plusieurs méthodes pour chacune d'entre elles et ainsi comparer leurs performances sur des instances du problème d'ordonnancement. Les résultats et analyses de nos tests sont détaillés dans ce notebook. Enfin nous avons programmé des fonctions permettant de visualiser le parcours de l'arbre de branchement de l'algorithme de Branch-And-Bound selon les méthodes utilisées. Nous présenterons également une résolution de l'extension du problème d'ordonnancement dans laquelle on ajoute des contraintes de précédence entre certaines paires de pièces à usiner."
   ]
  },
  {
   "cell_type": "markdown",
   "metadata": {},
   "source": [
    "## I - Structure de données générique pour le problème d'ordonnancement"
   ]
  },
  {
   "cell_type": "markdown",
   "metadata": {},
   "source": [
    "Afin de représenter les caractéristique du problème d'ordonnancement (celui présenté en introduction), nous avons choisi de défini une classe *Ordonnancement* en Python. Nous devrons donc créer un objet issu de la classe Ordonnacement à chaque fois que l'on souhaitera traiter une instance du problème d'ordonnancement.\\\n",
    "Le code de la classe est donné ci-dessous. Chaque problème d'ordonnancement contiendra les attributs suivants:\n",
    "* **nb_piece** : le nombre de pièces contenues dans le problème (qui seront indexés de 0 à *nb_piece*-1)\n",
    "* **unite_temps** : une liste contenant les unités de temps $T_j$ nécessaires pour l'usinage de chaque pièce $j$ (ces valeurs sont rangées dans l'ordre des indices des pièces) \n",
    "* **deadlines** : une liste contenant les dates limites (deadlines) d'usinage $d_j$ de chaque pièce $j$ (ces valeurs sont rangées dans l'ordre des indices des pièces)\n",
    "* **penalites** : une liste contenant les valeurs des pénalités de retard $\\omega_j$ par unité de temps de chaque pièce $j$ (ces valeurs sont rangées dans l'ordre des indices des pièces)\n",
    "* **contraintesPrecedence** : un tableau associatif qui gardera en mémoire les contraintes de précédences imposées sur les pièces en indiquant pour chaque pièce présente en entrée, les autres pièces qui doivent être usinées avant celle-ci (Nous traiterons les contraintes de précédences sur les pièces dans un second temps).\n",
    "\n",
    "De même, la classe *Ordonnancement* contient les fonctions suivantes:\n",
    "\n",
    "* **ajoutePieces(...)** : fonction permettant d'ajouter un ensemble de pièces au problème. Elle prend en paramètre une liste contenant les unités de temps des pièces à ajouter, une liste contenant les deadlines des pièces à ajouter et une liste contenant les pénalités par unité de temps des pièces à ajouter (notons que les 3 listes passées en paramètre doivent avoir la même longueur).\n",
    "* **ajouterContraintePrecedence(...)** : fonction permettant d'ajouter des contraintes de précédence sur l'ordre de passage des pièces. Elle prend en paramètre la pièce à ajouter et une liste contenant les pièces devant passer avant cette dernière\n",
    "* **afficherProbleme()** : fonction permettant d'afficher les données du problème (valeurs de $T_j$, $\\omega_j$ et $d_j$ $\\forall j \\in J$ ainsi que les éventuelles contraintes de précédence).\n",
    "* **problemeAleatoire(...)** : fonction permettant de créer une instance aléatoire contienant n (donné en paramètre et fixé par défaut à 10) objets. Notons que cette fonction créé une nouvelle instance en écrasant la précédente contenue dans l'objet.\n",
    "* **resolutionPLNE(...)** : fonction permettant de modéliser le problème courant sous la forme du PLNE présenté en introduction et qui le résout en affichant son résultat (et en indiquant éventuellement si l'instance proposée est non-réalisabe). Elle prend en paramètre un booléen permettant d'afficher ou non la valeur des variables après la résolution."
   ]
  },
  {
   "cell_type": "code",
   "execution_count": 3,
   "metadata": {},
   "outputs": [],
   "source": [
    "class Ordonnancement:\n",
    "    \n",
    "    def __init__(self):\n",
    "        self.nb_piece=0 #Nombre de pièces\n",
    "        self.unite_temps=[] #Unités de temps nécessaires pour les pièces\n",
    "        self.deadlines=[] #Deadlines pour chaque pièce\n",
    "        self.penalites=[] #Pénalités pour les retards de chaque pièce\n",
    "        self.contraintesPrecedence = {} #Contraintes de précédence entre les pièces\n",
    "        \n",
    "    def ajouterPieces(self,liste_ut,liste_d,liste_p):\n",
    "        #On vérifie qu'il ne manque pas d'informations\n",
    "        if(len(liste_ut) == len(liste_d) == len(liste_p)):\n",
    "            self.nb_piece += len(liste_ut) #Augmentation du nombre de pièces\n",
    "            self.unite_temps += liste_ut #Ajout des unités de temps des nouvelles pièces\n",
    "            self.deadlines += liste_d #Ajout des deadlies des nouvelles pièces\n",
    "            self.penalites += liste_p #Ajout des penalites des nouvelles pièces\n",
    "        else:\n",
    "            print(\"Attention les listes doivent être de même longueur\")\n",
    "    \n",
    "    #Fonction permettant d'imposer que les pices de la liste 'pieces_precedentes' passent avant 'piece'\n",
    "    def ajouterContraintePrecedence(self,piece,pieces_precedentes):\n",
    "        if(piece >= self.nb_piece):\n",
    "            #La pièce doit être dans la liste pour lui imposer des contraintes de précédence\n",
    "            print(\"Attention ! La pièce\",piece,\"n'a pas encore été ajoutée\")\n",
    "        else:\n",
    "            #On ajoute les contraintes de précédence\n",
    "            if piece not in self.contraintesPrecedence:\n",
    "                self.contraintesPrecedence[piece] = pieces_precedentes\n",
    "            else:\n",
    "                for p in pieces_precedentes:\n",
    "                    self.contraintesPrecedence[piece].append(p)\n",
    "    \n",
    "    #Fonction permettant d'afficher les données du problèmes créé\n",
    "    def afficherProbleme(self):\n",
    "        print(\"\\nAFFICHAGE DU PROBLEME:\\n\")\n",
    "        print(\"############### PIECES ##############\")\n",
    "        for i in range(self.nb_piece):\n",
    "            print(\"Piece n°\",i,\": [Unités de temps nécessaires: \",self.unite_temps[i],\", Deadline: \",self.deadlines[i],\", Pénalité par unité de temps de retard: \",self.penalites[i],\"]\")\n",
    "        print(\"###### CONTRAINTES PRECEDENCES ######\")\n",
    "        if(len(self.contraintesPrecedence) ==  0):\n",
    "            print(\"Pas de contraintes de précédence\")\n",
    "        else:\n",
    "            for i in self.contraintesPrecedence:\n",
    "                for j in self.contraintesPrecedence[i]:\n",
    "                    print(\"La pièce\",j,\"doit passer avant la pièce\",i)\n",
    "    \n",
    "    #Fonction permettant de créer une instance de n pièces aux valeurs aléatoire \n",
    "    def problemeAleatoire(self,n = 10):\n",
    "        self.nb_piece = n #Nombre de pièces\n",
    "        self.unite_temps = [random.randint(1,20) for i in range(n)] #Unités de temps\n",
    "        self.deadlines = [random.randint(20,40) for i in range(n)] #Deadlines\n",
    "        self.penalites = [random.randint(1,10) for i in range(n)] #Pénalités\n",
    "        \n",
    "        \n",
    "    def resolutionPLNE(self,afficheTout=0):\n",
    "        #Création du modèle:\n",
    "        modele = LpProblem(\"Ordonnancement\",LpMinimize)\n",
    "        #Ensembles des pièces\n",
    "        J = list(range(self.nb_piece))\n",
    "        #Variables:\n",
    "        r = LpVariable.dicts(\"r\",J,0,None,LpContinuous) #Retard de chaque piece\n",
    "        f = LpVariable.dicts(\"f\",J,0,None,LpContinuous) #Date de fin d'usinage de chaque piece\n",
    "        x = LpVariable.matrix(\"x\",(J,J),0,1,LpInteger) #Ordre de passage des pieces\n",
    "        #Objectif:\n",
    "        modele += pulp.lpSum([self.penalites[j]*r[j] for j in J]) #Minimisation des pénalités de retard\n",
    "        #Contraintes:\n",
    "        \n",
    "        for j in J:\n",
    "            modele += r[j] >= f[j] - self.deadlines[j] #Calcul du retard\n",
    "        \n",
    "        for j in J:\n",
    "            modele += f[j] == self.unite_temps[j] + lpSum([self.unite_temps[i]*x[i][j] for i in J if i != j]) #Calcul des dates de fin d'usinage\n",
    "        \n",
    "        for j in J:\n",
    "            modele += x[j][j] == 0 #Une pièce ne peut pas passer avant elle-même\n",
    "        \n",
    "        for j in J:\n",
    "            for i in range(j):\n",
    "                modele += x[i][j] + x[j][i] == 1 #Impose l'ordre total sur la relation d'ordre\n",
    "        \n",
    "        for j in J:\n",
    "            for i in J:\n",
    "                for k in J:\n",
    "                    if(i<j and i<k and j != k):\n",
    "                        modele += x[i][k] >= x[i][j] + x[j][k]- 1 #Impose la transitivité sur la relation d'ordre\n",
    "        \n",
    "        for j in self.contraintesPrecedence:\n",
    "            for i in self.contraintesPrecedence[j]:\n",
    "                modele += x[i][j] == 1 #Impose la contrainte de précédence : i doit passer avant j\n",
    "                \n",
    "        print(\"\\nRESOLUTION DU PROBLEME:\\n\")\n",
    "        #Résolution du problème:\n",
    "        print(\"Solve with CBC\")\n",
    "        modele.solve(pulp.PULP_CBC_CMD())\n",
    "        #Affichage de la solution\n",
    "        print(\"Status:\",LpStatus[modele.status])\n",
    "        print(\"Optimal value =\",value(modele.objective))\n",
    "        #Si option selectionnée, on affiche toutes variables\n",
    "        if(afficheTout):\n",
    "            print(modele)\n",
    "            for v in modele.variables():\n",
    "                print(v.name,\"=\",v.varValue)\n",
    "        #Si la solution est optimale, on affiche le résultat\n",
    "        if(LpStatus[modele.status] == \"Optimal\"):\n",
    "            print(\"\\nSOLUTION OBTENUE PLNE:\\n\")\n",
    "            print(\"Total des pénalités:\",value(modele.objective))\n",
    "            #Reconstruction de l'ordre des pièces\n",
    "            Ordre = []\n",
    "            k = self.nb_piece - 1\n",
    "            while(k >= 0):\n",
    "                for i in J:\n",
    "                    if(sum([value(x[i][j]) for j in J]) == k):\n",
    "                        Ordre.append(i)\n",
    "                k -= 1\n",
    "            print(\"Ordre d'usinage des pièces:\",Ordre)\n",
    "        else:\n",
    "            print(\"Erreur lors de la résolution\")"
   ]
  },
  {
   "cell_type": "markdown",
   "metadata": {},
   "source": [
    "Pour illustrer le fonctionnement de cette classe, nous allons considérer l'exemple suivant composés de $n=4$ pièces (on considérera tout au long du projet $J=\\{0,...,n-1\\}$ pour les éléments de $J$ coïncident avec les indices des pièces dans les listes) ainsi que les valeurs correspondantes de $\\omega_j$, $T_j$ et $d_j$ pour chaque pièce $j$."
   ]
  },
  {
   "cell_type": "markdown",
   "metadata": {},
   "source": [
    "![title](Exemple.PNG)"
   ]
  },
  {
   "cell_type": "markdown",
   "metadata": {},
   "source": [
    "On commence par construire un objet correspondant au problème d'ordonnancement associé au tableau ci-dessus:"
   ]
  },
  {
   "cell_type": "code",
   "execution_count": 4,
   "metadata": {},
   "outputs": [
    {
     "name": "stdout",
     "output_type": "stream",
     "text": [
      "\n",
      "AFFICHAGE DU PROBLEME:\n",
      "\n",
      "############### PIECES ##############\n",
      "Piece n° 0 : [Unités de temps nécessaires:  12 , Deadline:  16 , Pénalité par unité de temps de retard:  4 ]\n",
      "Piece n° 1 : [Unités de temps nécessaires:  8 , Deadline:  26 , Pénalité par unité de temps de retard:  5 ]\n",
      "Piece n° 2 : [Unités de temps nécessaires:  15 , Deadline:  25 , Pénalité par unité de temps de retard:  3 ]\n",
      "Piece n° 3 : [Unités de temps nécessaires:  9 , Deadline:  27 , Pénalité par unité de temps de retard:  5 ]\n",
      "###### CONTRAINTES PRECEDENCES ######\n",
      "Pas de contraintes de précédence\n"
     ]
    }
   ],
   "source": [
    "Exemple = Ordonnancement()\n",
    "P = [4,5,3,5] #Pénalités\n",
    "T = [12,8,15,9] #Unités de temps nécessaires\n",
    "D = [16,26,25,27] #Deadlines\n",
    "Exemple.ajouterPieces(T,D,P)\n",
    "Exemple.afficherProbleme()"
   ]
  },
  {
   "cell_type": "markdown",
   "metadata": {},
   "source": [
    "Une fois ce problème créé, nous pouvons maintenant le résoudre avec le modèle PLNE associé en appelant la fonction  *resolutionPLNE(...)*."
   ]
  },
  {
   "cell_type": "code",
   "execution_count": 5,
   "metadata": {
    "scrolled": true
   },
   "outputs": [
    {
     "name": "stdout",
     "output_type": "stream",
     "text": [
      "\n",
      "RESOLUTION DU PROBLEME:\n",
      "\n",
      "Solve with CBC\n",
      "Status: Optimal\n",
      "Optimal value = 67.0\n",
      "\n",
      "SOLUTION OBTENUE PLNE:\n",
      "\n",
      "Total des pénalités: 67.0\n",
      "Ordre d'usinage des pièces: [0, 1, 3, 2]\n"
     ]
    }
   ],
   "source": [
    "Exemple.resolutionPLNE() #Résolution "
   ]
  },
  {
   "cell_type": "markdown",
   "metadata": {},
   "source": [
    "On obtient que la valeur optimale du problème est  $z^*=67$ (valeur optimale de la fonction objectif du PLNE) et un ordre correspondant à cette solution est le suivante $x^* = (0,1,3,2)$ (Il peut y en avoir d'autre).\\\n",
    "Nous pourrons ainsi vérifier plus loin si notre algorithme de Branch-And-Bound nous fournit également cette valeur optimale."
   ]
  },
  {
   "cell_type": "markdown",
   "metadata": {},
   "source": [
    "## II - Structure de données générique pour l'arbre d'énumération de l'algorithme de Branch-And-Bound"
   ]
  },
  {
   "cell_type": "markdown",
   "metadata": {},
   "source": [
    "Après avoir implémenté la structure de données génériques pour le problème d'ordonnancement, nous nous sommes intéressé à la mise en place de l'algorithme de Branch-and-Bound. Premièrement, nous devions créer une structure de données génériques pour l'arbre d'énumération."
   ]
  },
  {
   "cell_type": "markdown",
   "metadata": {},
   "source": [
    "Pour cela, nous avons séparé la création de l'arbre en 2 étapes. Tout d'abord, nous avons crée une classe Noeud. Cette classe noeud regroupe les informations dont nous avons besoin pour chaque noeud :\n",
    "\n",
    "* **description** : titre du noeud.\n",
    "\n",
    "\n",
    "* **position** : elle permet de savoir si le noeud est à l'extrémité de l'arbre ( feuille) ou non ( branche ).\n",
    "\n",
    "\n",
    "* **indice_pere** : elle nous donne la position du noeud père dans la liste des noeuds que nous allons vous présenter par la suite dans une deuxième classe. Le noeud racine prendra la valeur -1.\n",
    "\n",
    "\n",
    "* **info** : cette variable permet de décrire un noeud. Dans notre cas, elle contiendra, la plupart du temps, l'ordre des pièces déjà fixées."
   ]
  },
  {
   "cell_type": "markdown",
   "metadata": {},
   "source": [
    "Voici l'implémentation de la classe Noeud en python :"
   ]
  },
  {
   "cell_type": "code",
   "execution_count": 6,
   "metadata": {},
   "outputs": [],
   "source": [
    "class Noeud:\n",
    "    def __init__(self,description,pos,info =[],indice=-1):\n",
    "        self.description=description\n",
    "        self.position = pos #branche : 0 ou une feuille : 1\n",
    "        self.indice_pere = indice #-1 si noeud racine\n",
    "        self.info = info"
   ]
  },
  {
   "cell_type": "markdown",
   "metadata": {},
   "source": [
    "Ensuite, dans un second temps, nous avons crée la classe ArbreEnumeration. Cette classe permet de définir l'arbre qui va être utilisé par la suite dans l'algorithme de Branch-and-Bound. Celle-ci va donc permettre de stocker tous les noeuds de l'arbre. \n",
    "Chaque instance de la classe est constituée des attributs suivants :\n",
    "\n",
    "* **nombre_noeuds** : nombre de noeuds de l'arbre crée suite à l'algorithme B&B\n",
    "\n",
    "\n",
    "* **nombre_noeuds_non_traites** : nombre de noeuds qui n'ont pas encore été traités\n",
    "\n",
    "\n",
    "* **noeuds** : liste regroupant tous les noeuds\n",
    "\n",
    "\n",
    "* **indice_noeuds_non_traites** : liste regroupant les indices de la liste noeud des noeuds qui n'ont pas encore été traités\n",
    "\n",
    "\n",
    "\n",
    "* **primal_bound** : borne primale du problème\n"
   ]
  },
  {
   "cell_type": "markdown",
   "metadata": {},
   "source": [
    "Voici l'implémentation de la classe ArbreEnumeration en python : "
   ]
  },
  {
   "cell_type": "code",
   "execution_count": 7,
   "metadata": {},
   "outputs": [],
   "source": [
    "class ArbreEnumeration:\n",
    "    \n",
    "    def __init__(self,p1):\n",
    "            self.nombre_noeuds=1\n",
    "            self.nombre_noeuds_non_traites = 1\n",
    "            self.noeuds = [Noeud(\"Problème initiale\",False)]\n",
    "            self.indice_noeuds_non_traites= [0]\n",
    "            self.primal_bound=p1"
   ]
  },
  {
   "cell_type": "markdown",
   "metadata": {},
   "source": [
    "La structure de l'arbre d'énumération est maintenant implémentée. "
   ]
  },
  {
   "cell_type": "markdown",
   "metadata": {},
   "source": [
    "## III - Implémentation de l'algorithme de Branch-And-Bound dans le cadre du problème d'ordonnancement"
   ]
  },
  {
   "cell_type": "markdown",
   "metadata": {},
   "source": [
    "Nous devions maintenant implémenter l'algorithme de Brand-and-Bound. Lorsque nous voulons appliquer l'algorithme B&B à un problème particulier, dans notre cas le problème d'ordonnancement, nous devons spécifier :\n",
    "\n",
    "\n",
    "* **calcul de la borne duale** : Nous devons spécifier à l'algorithme comment calculer la borne duale de chaque noeud.\n",
    "\n",
    "\n",
    "* **règle de branchement** : Nous devons spécifier la règle de branchement, c'est à dire spécifier à l'algorithme comment créer les noeuds enfants.\n",
    "\n",
    "\n",
    "* **borne primale initiale** : Nous devons donner à l'algorithme une première borne primale initiale. Celle-ci n'est pas obligatoire mais elle permet d'accélérer grandement l'algorithme. \n",
    "\n",
    "\n",
    "* **méthode d'exploration** : Nous devons spécifier à l'algorithme comment parcourir l'arbre d'énumération."
   ]
  },
  {
   "cell_type": "markdown",
   "metadata": {},
   "source": [
    "Ainsi, notre objectif était de créer l'implémentation la plus générique possible et créer des variantes de l'algorithme en modifiant les élements que nous venons de présenter au dessus. Pour cela, notre fonction B&B prend en paramètre l'instance du problème, la borne primale initiale, le calcul de la borne duale, la règle de branchement ainsi que la méthode d'exploration."
   ]
  },
  {
   "cell_type": "markdown",
   "metadata": {},
   "source": [
    "Ensuite, afin d'implémenter l'algorithme de B&B, nous avons suivi le pseudocode présenté ci-dessous : "
   ]
  },
  {
   "cell_type": "markdown",
   "metadata": {},
   "source": [
    "![image.png](pseudocode-B&B.PNG)"
   ]
  },
  {
   "cell_type": "markdown",
   "metadata": {},
   "source": [
    "Pour simplifier l'algorithme, nous avons crée quelques fonctions externes. Premièrement, nous avons crée une fonction **recuperationNoeud**. Celle-ci a pour objectif de récupérer un noeud de la liste des noeuds non traités et de calculer sa borne duale (ligne 5 à 7). \n",
    "\n",
    "\n",
    "Pour cela, la méthode prend en paramètres les éléments suivants : **arbre**, l'arbre d'énumération associé à l'algorithme ( instance de la classe ArbreEnumeration ), **explo**, la méthode d'exploration, **k**, le nombre d'itération, **borne_duale**,  méthode pour calculer la borne duale et **instance**, le probleme que nous voulons résoudre\n",
    "\n",
    "\n",
    "En retour, la méthode peut ainsi renvoyée les éléments suivants :\n",
    "\n",
    "\n",
    "* **Pk** : l'indice du noeud qui est en train d'être traité\n",
    "\n",
    "\n",
    "* **zD** : borne duale du noeud indicé par Pk\n",
    "\n",
    "\n",
    "* **isOptimal** : variable booléenne indiquant si le noeud est une feuille ( vrai ) ou bien une branche ( faux )\n",
    "\n",
    "\n",
    "* **solution** : solution réalisable du noeud si le noeud est un noeud feuille"
   ]
  },
  {
   "cell_type": "markdown",
   "metadata": {},
   "source": [
    "Voici son implémentation en python :"
   ]
  },
  {
   "cell_type": "code",
   "execution_count": 10,
   "metadata": {},
   "outputs": [],
   "source": [
    "def recuperationNoeud(arbre,explo,k,borne_duale,instance): \n",
    "    Pk = arbre.indice_noeuds_non_traites.pop()\n",
    "    \n",
    "    arbre.nombre_noeuds_non_traites-=1\n",
    "    \n",
    "    #Calcul de la borne dual de Pk\n",
    "    zD, isOptimal, solution  = borne_duale(arbre.noeuds[Pk],instance)\n",
    "    #isOptimal == pos du noeud\n",
    "    \n",
    "    return Pk, zD, isOptimal, solution"
   ]
  },
  {
   "cell_type": "markdown",
   "metadata": {},
   "source": [
    "Deuxièmement, nous avons créé une deuxième fonction externe : **exploration** (ligne 13). Pour l'instant, cette fonction appelle juste la fonction de la méthode d'exploration qui est donnée en paramètre. Elle a donc pour but d'organiser la liste des noeuds non traités selon la méthode d'exploration.\n",
    "\n",
    "Celle-ci prend donc les mêmes paramètres que la méthode d'exploration et un paramètre **explo** pour spécifier la règle d'exploration utilisé. Les autres paramètres sont : **arbre**, l'arbre d'énumération, **list_nodes**, liste des noeuds renvoyés par la règle de branchement, **borne_duale**, méthode de calcul de la borne duale et **instance**, le problème que nous voulons résoudre."
   ]
  },
  {
   "cell_type": "markdown",
   "metadata": {},
   "source": [
    "Voici son implémenttation en python : "
   ]
  },
  {
   "cell_type": "code",
   "execution_count": 11,
   "metadata": {},
   "outputs": [],
   "source": [
    "def exploration(explo,arbre,list_nodes,borne_duale,instance):\n",
    "    explo(arbre,list_nodes,borne_duale,instance)"
   ]
  },
  {
   "cell_type": "markdown",
   "metadata": {},
   "source": [
    "Nous pouvons maintenant vous présenter notre méthode pour l'algorithme de Branch-and-Bound. Comme nous l'avons déjà précisé précédemment, cette méthode prend en paramètre : **instance**, l'instance du problème que nous voulons résoudre, **primale**, une borne primale initiale, **borne_duale**, la méthode pour calculer la borne duale, **Branchement**, la méthode de branchement et **explo**, la méthode d'exploration.\n",
    "\n",
    "\n",
    "En retour, elle renvoie la valeur optimale de l'objectif **arbre.primal_bound** , la solution optimale **Current_best_solution** et le nombre d'itérations de l'algorithme **k**."
   ]
  },
  {
   "cell_type": "markdown",
   "metadata": {},
   "source": [
    "Voici son implémentation en python : "
   ]
  },
  {
   "cell_type": "code",
   "execution_count": 12,
   "metadata": {},
   "outputs": [],
   "source": [
    "#Algorithme du branch-and-bound:\n",
    "def branch_and_bound(instance,primale,borne_duale,Branchement,explo):\n",
    "    \n",
    "    #Calcul de la borne primale initiale et itialisation de la meilleure solution courante:\n",
    "    p, Current_best_solution = primale(instance)\n",
    "    \n",
    "    #Création de l'arrbre d'énumération:\n",
    "    arbre=ArbreEnumeration(p) \n",
    "    \n",
    "    #Variable comptant le nombre d'itérations\n",
    "    k = 1\n",
    "    \n",
    "    #Boucle principale\n",
    "    while(arbre.indice_noeuds_non_traites != []):\n",
    "        #Récupération du premier noeud Pk dans Q et de la borne duale du problème associé\n",
    "        Pk, zD, isOptimal, solution = recuperationNoeud(arbre,explo,k,borne_duale,instance)\n",
    "        \n",
    "        #Disjonction des cas:\n",
    "        if(zD >= arbre.primal_bound):\n",
    "            #Si zD est plus grand que la borne primale courante, on élague (uniquement pour un problème de minimisation)\n",
    "            pass\n",
    "        elif(isOptimal):\n",
    "            #Si zD est optimale pour Pk, on met à jour la borne primale:\n",
    "            if zD < arbre.primal_bound:\n",
    "                #On met à jour la meilleure solution courante:\n",
    "                Current_best_solution = solution\n",
    "                arbre.primal_bound = zD\n",
    "        else:\n",
    "            #Sinon branchement et ajout des noeuds fils à l'arbre (en fonction de la méthode d'exploration):\n",
    "            list_nodes=Branchement(arbre,instance,Pk)\n",
    "            exploration(explo,arbre,list_nodes,borne_duale,instance)\n",
    "        k+=1\n",
    "    return arbre.primal_bound, Current_best_solution, k"
   ]
  },
  {
   "cell_type": "markdown",
   "metadata": {},
   "source": [
    "Nous allons par la suite pouvoir vous présenter les différentes méthodes que nous avons adopté afin de résoudre les problèmes. "
   ]
  },
  {
   "cell_type": "markdown",
   "metadata": {},
   "source": [
    "### a) Méthode 1 *( Du début à la fin )* \n",
    "\n",
    "Nous avons commencé par une première méthode très simple : nous décidons de fixer l'ordre de passage des pièces à chaque niveau. Nous devions définir au moins une méthode d'exploration, une règle de branchement, une méthode de calcul pour la borne duale et une borne primale initiale."
   ]
  },
  {
   "cell_type": "markdown",
   "metadata": {},
   "source": [
    "Commencons par la règle de branchement. Considérons que le noeud racine est le problème initial P, c'est à dire qu'aucune pièce n'est pour le moment fixée.\n",
    "\n",
    "\n",
    "Nous commencons alors par créer un noeud pour chaque pièce en la fixant en 1ère position. Itérativement, au niveau k de l'arbre, nous créeons un noeud pour chaque pièce non usinée et nous l'usinons en k-ème position. \n",
    "\n",
    "Si nous prenons une instance avec 2 produits, voici l'arbre avec tous les noeuds possibles: "
   ]
  },
  {
   "cell_type": "markdown",
   "metadata": {},
   "source": [
    "![image.png](GrapheDebut.PNG)"
   ]
  },
  {
   "cell_type": "markdown",
   "metadata": {},
   "source": [
    "ici rajouter explication branchement 1"
   ]
  },
  {
   "cell_type": "code",
   "execution_count": null,
   "metadata": {},
   "outputs": [],
   "source": [
    "def Branchement1(arbre,instance,indice_pere):\n",
    "    #recuperation du noeud que nous traitons\n",
    "    noeud=arbre.noeuds[indice_pere]\n",
    "    \n",
    "    #initialisation de la liste qui va contenir les noeuds que nous allons creer\n",
    "    new_node=[]\n",
    "    \n",
    "    #recuperation des pieces non usinees\n",
    "    pieces_non_usinees = [i for i in range(instance.nb_piece) if i not in noeud.info]\n",
    "    \n",
    "    #si il reste que deux pieces non usinees alors c'est un noeud fils\n",
    "    if(len(pieces_non_usinees) == 2):\n",
    "        position = True\n",
    "    else:\n",
    "        position = False\n",
    "        \n",
    "    #creation des nouveaux noeuds\n",
    "    for i in pieces_non_usinees:\n",
    "        new_info = noeud.info.copy()\n",
    "        new_info.append(i)\n",
    "        des = \"P\"\n",
    "        for piece in noeud.info:\n",
    "            des += str(piece)\n",
    "        des += str(i)\n",
    "        new_node.append(Noeud(des,position,new_info,indice_pere))\n",
    "        \n",
    "    #nous retournons la liste des nouveaux noeuds\n",
    "    return new_node"
   ]
  },
  {
   "cell_type": "markdown",
   "metadata": {},
   "source": [
    "### b) Méthode 2 *(En partant de la fin)*"
   ]
  },
  {
   "cell_type": "markdown",
   "metadata": {},
   "source": [
    "![image.png](GrapheFin.PNG)"
   ]
  },
  {
   "cell_type": "markdown",
   "metadata": {},
   "source": [
    "### c) Nouvelles méthodes de parcours"
   ]
  },
  {
   "cell_type": "markdown",
   "metadata": {},
   "source": []
  },
  {
   "cell_type": "markdown",
   "metadata": {},
   "source": [
    "### d) Nouvelles méthodes pour les bornes primales"
   ]
  },
  {
   "cell_type": "markdown",
   "metadata": {},
   "source": []
  },
  {
   "cell_type": "markdown",
   "metadata": {},
   "source": [
    "### e) Analyse des résultats"
   ]
  },
  {
   "cell_type": "markdown",
   "metadata": {},
   "source": [
    "## IV - Visualisation du parcours de l'arbre de branchement lors de l'exécution de l'algorithme de Branch-And-Bound"
   ]
  },
  {
   "cell_type": "markdown",
   "metadata": {},
   "source": [
    "    TO DO"
   ]
  },
  {
   "cell_type": "markdown",
   "metadata": {},
   "source": [
    "## V - Ajout de contraintes de précédence sur les pièces au problème d'ordonnancement "
   ]
  },
  {
   "cell_type": "markdown",
   "metadata": {},
   "source": [
    "    TO DO"
   ]
  },
  {
   "cell_type": "markdown",
   "metadata": {},
   "source": [
    "## Conclusion "
   ]
  },
  {
   "cell_type": "markdown",
   "metadata": {},
   "source": [
    "    TO DO"
   ]
  }
 ],
 "metadata": {
  "kernelspec": {
   "display_name": "Python 3",
   "language": "python",
   "name": "python3"
  },
  "language_info": {
   "codemirror_mode": {
    "name": "ipython",
    "version": 3
   },
   "file_extension": ".py",
   "mimetype": "text/x-python",
   "name": "python",
   "nbconvert_exporter": "python",
   "pygments_lexer": "ipython3",
   "version": "3.7.4"
  }
 },
 "nbformat": 4,
 "nbformat_minor": 2
}
