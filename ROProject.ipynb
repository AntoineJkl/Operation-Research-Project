{
 "cells": [
  {
   "cell_type": "markdown",
   "metadata": {},
   "source": [
    "# Projet Recherche Opérationnelle"
   ]
  },
  {
   "cell_type": "markdown",
   "metadata": {},
   "source": [
    "Antoine GICQUEL \\\n",
    "Victor BERTRET \\\n",
    "4ème année Génie Mathématique \\\n",
    "Annéé universitaire 2020 - 2021"
   ]
  },
  {
   "cell_type": "markdown",
   "metadata": {},
   "source": [
    "*Importation des packages nécessaires:*"
   ]
  },
  {
   "cell_type": "code",
   "execution_count": 152,
   "metadata": {},
   "outputs": [],
   "source": [
    "from pulp import* #Package pulp : résolution de modèles PLNE\n",
    "import numpy as np \n",
    "import random as random\n",
    "import time\n",
    "import matplotlib.pyplot as plt\n",
    "from matplotlib import style\n",
    "from heapq import *\n",
    "style.use('ggplot')"
   ]
  },
  {
   "cell_type": "markdown",
   "metadata": {},
   "source": [
    "## Introduction"
   ]
  },
  {
   "cell_type": "markdown",
   "metadata": {},
   "source": [
    "Ce projet a été réalisé dans le cadre du module de Recherche Opérationnelle de notre formation d'ingénieur au département Génie Mathématique de l'INSA de Rennes. L'objectif de ce projet était d'étudier le fonctionnement algorithme de Branch-and-Bound appliqué au problème d'ordonnancement qui est le suivant. On considère un atelier de production devant usiner un ensemble $J = \\{1,...,n\\}$ de pièces. On suppose que l'atelier ne dispose que d'une machine (le problème peut tout à fait être étendu au cas où l'atelier dispose de plusieurs machines). Chaque pièce $j\\in J$ nécessite $p_j$ unités de temps pour être usinée. De plus, à la date $t=0$, chaque pièce $j\\in J$ doit être usinée avant la date $d_j$. Si ce n'est pas le cas et que la pièce $j$ est prête après la date $d_j$ alors il faudra payer une pénalité de $\\omega_j$ par unité de temps de retard. On cherche à trouver l'ordre d'usinage des pièces minimisant la somme totale des pénalités de retard. \\\n",
    "Notons dés maintenant que ce problème peut être modélisé sous la forme d'un problème linéaire en nombres entiers que nous avons explicité ci-dessous :\n",
    "\n",
    "\n",
    "**Variables:**\n",
    "\n",
    " * $\\forall j \\in J, r_j \\ge 0$ est une variable réelle positive représentant le retard en unité de temps de la pièce $j$\n",
    " \n",
    " * $\\forall j \\in J, f_j \\ge 0$ est une variable réelle positive représentant la date de fin d'usinage de la pièce $j$\n",
    " \n",
    " * $\\forall (i,j)\\in J^2$, $x_{i,j} \\in \\{0,1\\}$ est une variable binaire prenant la valeur $1$ si la pièce $i$ passe avant la pièce $j$ et $0$ sinon\n",
    "\n",
    "**Objectif:**\n",
    "\n",
    "* On cherche à minimiser les pénalités de retard :\n",
    "\n",
    "$$ \\min{\\sum_{j\\in J}{\\omega_j r_j}}$$\n",
    "\n",
    "**Contraintes:**\n",
    "\n",
    "* On impose la contrainte suivante pour calculer le retard de chaque pièce :\n",
    "$$ r_j \\ge f_j - d_j,\\quad \\forall j \\in J$$\n",
    "\n",
    "* On impose la contrainte suivatne pour calculer la date de fin d'usinage de chaque pièce :\n",
    "$$ f_j = T_j + \\sum_{i \\in J \\\\ i\\neq j}{T_i x_{ij}} \\quad \\forall j \\in J$$\n",
    "\n",
    "* On impose enfin une relation d'ordre total sur le passage des pièces :\n",
    "$$ x_{ij} + x_{ji} = 1 \\quad \\forall (i,j) \\in J^2, \\: i < j$$\n",
    "$$ x_{ik} \\ge x_{ij} + x_{jk}-1\\quad \\forall (i,j,k) \\in J^3, \\: i<j, \\: i<k, j\\neq k$$\n",
    "\n",
    "\\\n",
    "Nos implémentations ont été réalisé sous Python et nous avons fait appel (lorsque c'était nécessaire) au package PuLP pour résoudres des modèles de PLNE.\n",
    "\n",
    "Nous avons dans un premier temps créé une structure de données permettant de représenter une instance du problème d'ordonnacement présenté ci-dessus. Nous avons ensuite créée une structure de données générique pour l'arbre d'énumération qui sera utilisé dans l'algorithme de Branch-and-Bound. Avec celle-ci, nous avons par la suite, implémenté l'algorithme de Branch-and-bound de manière générique en fragmentant ses différentes spécificités dans des sous-fonctions, ceci nous a notament permis de tester plusieurs méthodes pour chacune d'entre elles et ainsi comparer leurs performances sur des instances du problème d'ordonnancement. Les résultats et analyses de nos tests sont détaillés dans ce notebook. Enfin nous avons programmé des fonctions permettant de visualiser le parcours de l'arbre de branchement de l'algorithme de Branch-And-Bound selon les méthodes utilisées. Nous présenterons également une résolution de l'extension du problème d'ordonnancement dans laquelle on ajoute des contraintes de précédence entre certaines paires de pièces à usiner."
   ]
  },
  {
   "cell_type": "markdown",
   "metadata": {},
   "source": [
    "## I - Structure de données générique pour le problème d'ordonnancement"
   ]
  },
  {
   "cell_type": "markdown",
   "metadata": {},
   "source": [
    "Afin de représenter les caractéristique du problème d'ordonnancement (celui présenté en introduction), nous avons choisi de défini une classe *Ordonnancement* en Python. Nous devrons donc créer un objet issu de la classe Ordonnacement à chaque fois que l'on souhaitera traiter une instance du problème d'ordonnancement.\\\n",
    "Le code de la classe est donné ci-dessous. Chaque problème d'ordonnancement contiendra les attributs suivants:\n",
    "* **nb_piece** : le nombre de pièces contenues dans le problème (qui seront indexés de 0 à *nb_piece*-1)\n",
    "* **unite_temps** : une liste contenant les unités de temps $T_j$ nécessaires pour l'usinage de chaque pièce $j$ (ces valeurs sont rangées dans l'ordre des indices des pièces) \n",
    "* **deadlines** : une liste contenant les dates limites (deadlines) d'usinage $d_j$ de chaque pièce $j$ (ces valeurs sont rangées dans l'ordre des indices des pièces)\n",
    "* **penalites** : une liste contenant les valeurs des pénalités de retard $\\omega_j$ par unité de temps de chaque pièce $j$ (ces valeurs sont rangées dans l'ordre des indices des pièces)\n",
    "* **contraintesPrecedence** : un tableau associatif qui gardera en mémoire les contraintes de précédences imposées sur les pièces en indiquant pour chaque pièce présente en entrée, les autres pièces qui doivent être usinées avant celle-ci (Nous traiterons les contraintes de précédences sur les pièces dans un second temps).\n",
    "\n",
    "De même, la classe *Ordonnancement* contient les fonctions suivantes:\n",
    "\n",
    "* **ajoutePieces(...)** : fonction permettant d'ajouter un ensemble de pièces au problème. Elle prend en paramètre une liste contenant les unités de temps des pièces à ajouter, une liste contenant les deadlines des pièces à ajouter et une liste contenant les pénalités par unité de temps des pièces à ajouter (notons que les 3 listes passées en paramètre doivent avoir la même longueur).\n",
    "* **ajouterContraintePrecedence(...)** : fonction permettant d'ajouter des contraintes de précédence sur l'ordre de passage des pièces. Elle prend en paramètre la pièce à ajouter et une liste contenant les pièces devant passer avant cette dernière\n",
    "* **afficherProbleme()** : fonction permettant d'afficher les données du problème (valeurs de $T_j$, $\\omega_j$ et $d_j$ $\\forall j \\in J$ ainsi que les éventuelles contraintes de précédence).\n",
    "* **problemeAleatoire(...)** : fonction permettant de créer une instance aléatoire contienant n (donné en paramètre et fixé par défaut à 10) objets. Notons que cette fonction créé une nouvelle instance en écrasant la précédente contenue dans l'objet.\n",
    "* **resolutionPLNE(...)** : fonction permettant de modéliser le problème courant sous la forme du PLNE présenté en introduction et qui le résout en affichant son résultat (et en indiquant éventuellement si l'instance proposée est non-réalisabe). Elle prend en paramètre un booléen permettant d'afficher ou non la valeur des variables après la résolution."
   ]
  },
  {
   "cell_type": "code",
   "execution_count": 166,
   "metadata": {},
   "outputs": [],
   "source": [
    "class Ordonnancement:\n",
    "    \n",
    "    def __init__(self):\n",
    "        self.nb_piece=0 #Nombre de pièces\n",
    "        self.unite_temps=[] #Unités de temps nécessaires pour les pièces\n",
    "        self.deadlines=[] #Deadlines pour chaque pièce\n",
    "        self.penalites=[] #Pénalités pour les retards de chaque pièce\n",
    "        self.contraintesPrecedence = {} #Contraintes de précédence entre les pièces\n",
    "        \n",
    "    def ajouterPieces(self,liste_ut,liste_d,liste_p):\n",
    "        #On vérifie qu'il ne manque pas d'informations\n",
    "        if(len(liste_ut) == len(liste_d) == len(liste_p)):\n",
    "            self.nb_piece += len(liste_ut) #Augmentation du nombre de pièces\n",
    "            self.unite_temps += liste_ut #Ajout des unités de temps des nouvelles pièces\n",
    "            self.deadlines += liste_d #Ajout des deadlies des nouvelles pièces\n",
    "            self.penalites += liste_p #Ajout des penalites des nouvelles pièces\n",
    "        else:\n",
    "            print(\"Attention les listes doivent être de même longueur\")\n",
    "    \n",
    "    #Fonction permettant d'imposer que les pices de la liste 'pieces_precedentes' passent avant 'piece'\n",
    "    def ajouterContraintePrecedence(self,piece,pieces_precedentes):\n",
    "        if(piece >= self.nb_piece):\n",
    "            #La pièce doit être dans la liste pour lui imposer des contraintes de précédence\n",
    "            print(\"Attention ! La pièce\",piece,\"n'a pas encore été ajoutée\")\n",
    "        else:\n",
    "            #On ajoute les contraintes de précédence\n",
    "            if piece not in self.contraintesPrecedence:\n",
    "                self.contraintesPrecedence[piece] = pieces_precedentes\n",
    "            else:\n",
    "                for p in pieces_precedentes:\n",
    "                    self.contraintesPrecedence[piece].append(p)\n",
    "    \n",
    "    #Fonction permettant d'afficher les données du problèmes créé\n",
    "    def afficherProbleme(self):\n",
    "        print(\"\\nAFFICHAGE DU PROBLEME:\\n\")\n",
    "        print(\"############### PIECES ##############\")\n",
    "        for i in range(self.nb_piece):\n",
    "            print(\"Piece n°\",i,\": [Unités de temps nécessaires: \",self.unite_temps[i],\", Deadline: \",self.deadlines[i],\", Pénalité par unité de temps de retard: \",self.penalites[i],\"]\")\n",
    "        print(\"###### CONTRAINTES PRECEDENCES ######\")\n",
    "        if(len(self.contraintesPrecedence) ==  0):\n",
    "            print(\"Pas de contraintes de précédence\")\n",
    "        else:\n",
    "            for i in self.contraintesPrecedence:\n",
    "                for j in self.contraintesPrecedence[i]:\n",
    "                    print(\"La pièce\",j,\"doit passer avant la pièce\",i)\n",
    "    \n",
    "    #Fonction permettant de créer une instance de n pièces aux valeurs aléatoire \n",
    "    def problemeAleatoire(self,n = 10):\n",
    "        self.nb_piece = n #Nombre de pièces\n",
    "        self.unite_temps = [random.randint(1,20) for i in range(n)] #Unités de temps\n",
    "        self.deadlines = [random.randint(20,40) for i in range(n)] #Deadlines\n",
    "        self.penalites = [random.randint(1,10) for i in range(n)] #Pénalités\n",
    "        \n",
    "        \n",
    "    def resolutionPLNE(self,afficheTout=1):\n",
    "        #Création du modèle:\n",
    "        modele = LpProblem(\"Ordonnancement\",LpMinimize)\n",
    "        #Ensembles des pièces\n",
    "        J = list(range(self.nb_piece))\n",
    "        #Variables:\n",
    "        r = LpVariable.dicts(\"r\",J,0,None,LpContinuous) #Retard de chaque piece\n",
    "        f = LpVariable.dicts(\"f\",J,0,None,LpContinuous) #Date de fin d'usinage de chaque piece\n",
    "        x = LpVariable.matrix(\"x\",(J,J),0,1,LpInteger) #Ordre de passage des pieces\n",
    "        #Objectif:\n",
    "        modele += pulp.lpSum([self.penalites[j]*r[j] for j in J]) #Minimisation des pénalités de retard\n",
    "        #Contraintes:\n",
    "        \n",
    "        for j in J:\n",
    "            modele += r[j] >= f[j] - self.deadlines[j] #Calcul du retard\n",
    "        \n",
    "        for j in J:\n",
    "            modele += f[j] == self.unite_temps[j] + lpSum([self.unite_temps[i]*x[i][j] for i in J if i != j]) #Calcul des dates de fin d'usinage\n",
    "        \n",
    "        for j in J:\n",
    "            modele += x[j][j] == 0 #Une pièce ne peut pas passer avant elle-même\n",
    "        \n",
    "        for j in J:\n",
    "            for i in range(j):\n",
    "                modele += x[i][j] + x[j][i] == 1 #Impose l'ordre total sur la relation d'ordre\n",
    "        \n",
    "        for j in J:\n",
    "            for i in J:\n",
    "                for k in J:\n",
    "                    if(i<j and i<k and j != k):\n",
    "                        modele += x[i][k] >= x[i][j] + x[j][k]- 1 #Impose la transitivité sur la relation d'ordre\n",
    "        \n",
    "        for j in self.contraintesPrecedence:\n",
    "            for i in self.contraintesPrecedence[j]:\n",
    "                modele += x[i][j] == 1 #Impose la contrainte de précédence : i doit passer avant j\n",
    "        \n",
    "        if(afficheTout):\n",
    "            print(\"\\nSOLUTION OBTENUE PLNE:\\n\")\n",
    "            #Résolution du problème:\n",
    "            print(\"Solve with CBC\",end=\", \")\n",
    "            modele.solve(pulp.PULP_CBC_CMD())\n",
    "            #Affichage de la solution\n",
    "            print(\"Status:\",LpStatus[modele.status])\n",
    "\n",
    "            #Si la solution est optimale, on affiche le résultat\n",
    "            if(LpStatus[modele.status] == \"Optimal\"):\n",
    "                print(\"Total des pénalités:\",value(modele.objective))\n",
    "                #Reconstruction de l'ordre des pièces\n",
    "                Ordre = []\n",
    "                k = self.nb_piece - 1\n",
    "                while(k >= 0):\n",
    "                    for i in J:\n",
    "                        if(sum([value(x[i][j]) for j in J]) == k):\n",
    "                            Ordre.append(i)\n",
    "                    k -= 1\n",
    "                print(\"Ordre d'usinage des pièces:\",Ordre)\n",
    "            else:\n",
    "                print(\"Erreur lors de la résolution\")\n",
    "\n",
    "            #print(modele)\n",
    "            #for v in modele.variables():\n",
    "            #    print(v.name,\"=\",v.varValue)\n"
   ]
  },
  {
   "cell_type": "markdown",
   "metadata": {},
   "source": [
    "Pour illustrer le fonctionnement de cette classe, nous allons considérer l'exemple suivant composés de $n=4$ pièces (on considérera tout au long du projet $J=\\{0,...,n-1\\}$ pour les éléments de $J$ coïncident avec les indices des pièces dans les listes) ainsi que les valeurs correspondantes de $\\omega_j$, $T_j$ et $d_j$ pour chaque pièce $j$."
   ]
  },
  {
   "cell_type": "markdown",
   "metadata": {},
   "source": [
    "![title](Exemple.PNG)"
   ]
  },
  {
   "cell_type": "markdown",
   "metadata": {},
   "source": [
    "On commence par construire un objet correspondant au problème d'ordonnancement associé au tableau ci-dessus:"
   ]
  },
  {
   "cell_type": "code",
   "execution_count": 168,
   "metadata": {},
   "outputs": [
    {
     "name": "stdout",
     "output_type": "stream",
     "text": [
      "\n",
      "AFFICHAGE DU PROBLEME:\n",
      "\n",
      "############### PIECES ##############\n",
      "Piece n° 0 : [Unités de temps nécessaires:  12 , Deadline:  16 , Pénalité par unité de temps de retard:  4 ]\n",
      "Piece n° 1 : [Unités de temps nécessaires:  8 , Deadline:  26 , Pénalité par unité de temps de retard:  5 ]\n",
      "Piece n° 2 : [Unités de temps nécessaires:  15 , Deadline:  25 , Pénalité par unité de temps de retard:  3 ]\n",
      "Piece n° 3 : [Unités de temps nécessaires:  9 , Deadline:  27 , Pénalité par unité de temps de retard:  5 ]\n",
      "###### CONTRAINTES PRECEDENCES ######\n",
      "Pas de contraintes de précédence\n"
     ]
    }
   ],
   "source": [
    "Exemple = Ordonnancement()\n",
    "P = [4,5,3,5] #Pénalités\n",
    "T = [12,8,15,9] #Unités de temps nécessaires\n",
    "D = [16,26,25,27] #Deadlines\n",
    "Exemple.ajouterPieces(T,D,P)\n",
    "Exemple.afficherProbleme()"
   ]
  },
  {
   "cell_type": "markdown",
   "metadata": {},
   "source": [
    "Une fois ce problème créé, nous pouvons maintenant le résoudre avec le modèle PLNE associé en appelant la fonction  *resolutionPLNE(...)*."
   ]
  },
  {
   "cell_type": "code",
   "execution_count": 169,
   "metadata": {
    "scrolled": true
   },
   "outputs": [
    {
     "name": "stdout",
     "output_type": "stream",
     "text": [
      "\n",
      "SOLUTION OBTENUE PLNE:\n",
      "\n",
      "Solve with CBC, Status: Optimal\n",
      "Total des pénalités: 67.0\n",
      "Ordre d'usinage des pièces: [0, 1, 3, 2]\n"
     ]
    }
   ],
   "source": [
    "Exemple.resolutionPLNE() #Résolution "
   ]
  },
  {
   "cell_type": "markdown",
   "metadata": {},
   "source": [
    "On obtient que la valeur optimale du problème est  $z^*=67$ (valeur optimale de la fonction objectif du PLNE) et un ordre correspondant à cette solution est le suivante $x^* = (0,1,3,2)$ (Il peut y en avoir d'autre).\\\n",
    "Nous pourrons ainsi vérifier plus loin si notre algorithme de Branch-And-Bound nous fournit également cette valeur optimale."
   ]
  },
  {
   "cell_type": "markdown",
   "metadata": {},
   "source": [
    "## II - Structure de données générique pour l'arbre d'énumération de l'algorithme de Branch-And-Bound"
   ]
  },
  {
   "cell_type": "markdown",
   "metadata": {},
   "source": [
    "Après avoir implémenté la structure de données génériques pour le problème d'ordonnancement, nous nous sommes intéressé à la mise en place de l'algorithme de Branch-and-Bound. Premièrement, nous devions créer une structure de données génériques pour l'arbre d'énumération."
   ]
  },
  {
   "cell_type": "markdown",
   "metadata": {},
   "source": [
    "Pour cela, nous avons séparé la création de l'arbre en 2 étapes. Tout d'abord, nous avons crée une classe Noeud. Cette classe noeud regroupe les informations dont nous avons besoin pour chaque noeud :\n",
    "\n",
    "* **description** : titre du noeud.\n",
    "\n",
    "\n",
    "* **position** : elle permet de savoir si le noeud est à l'extrémité de l'arbre ( feuille) ou non ( branche ).\n",
    "\n",
    "\n",
    "* **indice_pere** : elle nous donne la position du noeud père dans la liste des noeuds que nous allons vous présenter par la suite dans une deuxième classe. Le noeud racine prendra la valeur -1.\n",
    "\n",
    "\n",
    "* **info** : cette variable permet de décrire un noeud. Dans notre cas, elle contiendra, la plupart du temps, l'ordre des pièces déjà fixées."
   ]
  },
  {
   "cell_type": "markdown",
   "metadata": {},
   "source": [
    "Voici l'implémentation de la classe Noeud en python :"
   ]
  },
  {
   "cell_type": "code",
   "execution_count": 156,
   "metadata": {},
   "outputs": [],
   "source": [
    "class Noeud:\n",
    "    def __init__(self,description,pos,info =[],indice=-1):\n",
    "        self.description=description\n",
    "        self.position = pos #branche : 0 ou une feuille : 1\n",
    "        self.indice_pere = indice #-1 si noeud racine\n",
    "        self.info = info"
   ]
  },
  {
   "cell_type": "markdown",
   "metadata": {},
   "source": [
    "Ensuite, dans un second temps, nous avons crée la classe ArbreEnumeration. Cette classe permet de définir l'arbre qui va être utilisé par la suite dans l'algorithme de Branch-and-Bound. Celle-ci va donc permettre de stocker tous les noeuds de l'arbre. \n",
    "Chaque instance de la classe est constituée des attributs suivants :\n",
    "\n",
    "* **nombre_noeuds** : nombre de noeuds de l'arbre crée suite à l'algorithme B&B\n",
    "\n",
    "\n",
    "* **nombre_noeuds_non_traites** : nombre de noeuds qui n'ont pas encore été traités\n",
    "\n",
    "\n",
    "* **noeuds** : liste regroupant tous les noeuds\n",
    "\n",
    "\n",
    "* **indice_noeuds_non_traites** : liste regroupant les indices de la liste noeud des noeuds qui n'ont pas encore été traités\n",
    "\n",
    "\n",
    "\n",
    "* **primal_bound** : borne primale du problème\n"
   ]
  },
  {
   "cell_type": "markdown",
   "metadata": {},
   "source": [
    "Voici l'implémentation de la classe ArbreEnumeration en python : "
   ]
  },
  {
   "cell_type": "code",
   "execution_count": 157,
   "metadata": {},
   "outputs": [],
   "source": [
    "class ArbreEnumeration:\n",
    "    \n",
    "    def __init__(self,p1):\n",
    "            self.nombre_noeuds=1\n",
    "            self.nombre_noeuds_non_traites = 1\n",
    "            self.noeuds = [Noeud(\"Problème initiale\",False)]\n",
    "            self.indice_noeuds_non_traites= [0]\n",
    "            self.primal_bound=p1"
   ]
  },
  {
   "cell_type": "markdown",
   "metadata": {},
   "source": [
    "La structure de l'arbre d'énumération est maintenant implémentée. "
   ]
  },
  {
   "cell_type": "markdown",
   "metadata": {},
   "source": [
    "## III - Implémentation de l'algorithme de Branch-And-Bound dans le cadre du problème d'ordonnancement"
   ]
  },
  {
   "cell_type": "markdown",
   "metadata": {},
   "source": [
    "Nous devions maintenant implémenter l'algorithme de Brand-and-Bound. Lorsque nous voulons appliquer l'algorithme B&B à un problème particulier, dans notre cas le problème d'ordonnancement, nous devons spécifier :\n",
    "\n",
    "\n",
    "* **calcul de la borne duale** : Nous devons spécifier à l'algorithme comment calculer la borne duale de chaque noeud.\n",
    "\n",
    "\n",
    "* **règle de branchement** : Nous devons spécifier la règle de branchement, c'est à dire spécifier à l'algorithme comment créer les noeuds enfants.\n",
    "\n",
    "\n",
    "* **borne primale initiale** : Nous devons donner à l'algorithme une première borne primale initiale. Celle-ci n'est pas obligatoire mais elle permet d'accélérer grandement l'algorithme. \n",
    "\n",
    "\n",
    "* **méthode d'exploration** : Nous devons spécifier à l'algorithme comment parcourir l'arbre d'énumération."
   ]
  },
  {
   "cell_type": "markdown",
   "metadata": {},
   "source": [
    "Ainsi, notre objectif était de créer l'implémentation la plus générique possible et créer des variantes de l'algorithme en modifiant les élements que nous venons de présenter au dessus. Pour cela, notre fonction B&B prend en paramètre l'instance du problème, la borne primale initiale, le calcul de la borne duale, la règle de branchement ainsi que la méthode d'exploration."
   ]
  },
  {
   "cell_type": "markdown",
   "metadata": {},
   "source": [
    "Ensuite, afin d'implémenter l'algorithme de B&B, nous avons suivi le pseudocode présenté ci-dessous : "
   ]
  },
  {
   "cell_type": "markdown",
   "metadata": {},
   "source": [
    "![image.png](pseudocode-B&B.PNG)"
   ]
  },
  {
   "cell_type": "markdown",
   "metadata": {},
   "source": [
    "Pour simplifier l'algorithme, nous avons crée quelques fonctions externes. Premièrement, nous avons crée une fonction **recuperationNoeud**. Celle-ci a pour objectif de récupérer un noeud de la liste des noeuds non traités et de calculer sa borne duale (ligne 5 à 7). \n",
    "\n",
    "\n",
    "Pour cela, la méthode prend en paramètres les éléments suivants : **arbre**, l'arbre d'énumération associé à l'algorithme ( instance de la classe ArbreEnumeration ), **explo**, la méthode d'exploration, **k**, le nombre d'itération, **borne_duale**,  méthode pour calculer la borne duale et **instance**, le probleme que nous voulons résoudre\n",
    "\n",
    "\n",
    "En retour, la méthode peut ainsi renvoyée les éléments suivants :\n",
    "\n",
    "\n",
    "* **Pk** : l'indice du noeud qui est en train d'être traité\n",
    "\n",
    "\n",
    "* **zD** : borne duale du noeud indicé par Pk\n",
    "\n",
    "\n",
    "* **isOptimal** : variable booléenne indiquant si le noeud est une feuille ( vrai ) ou bien une branche ( faux )\n",
    "\n",
    "\n",
    "* **solution** : solution réalisable du noeud si le noeud est un noeud feuille"
   ]
  },
  {
   "cell_type": "markdown",
   "metadata": {},
   "source": [
    "Voici son implémentation en python :"
   ]
  },
  {
   "cell_type": "code",
   "execution_count": 158,
   "metadata": {},
   "outputs": [],
   "source": [
    "def recuperationNoeud(arbre,explo,k,borne_duale,instance): \n",
    "    Pk = arbre.indice_noeuds_non_traites.pop()\n",
    "    \n",
    "    arbre.nombre_noeuds_non_traites-=1\n",
    "    \n",
    "    #Calcul de la borne dual de Pk\n",
    "    zD, isOptimal, solution  = borne_duale(arbre.noeuds[Pk],instance)\n",
    "    #isOptimal == pos du noeud\n",
    "    \n",
    "    return Pk, zD, isOptimal, solution"
   ]
  },
  {
   "cell_type": "markdown",
   "metadata": {},
   "source": [
    "Deuxièmement, nous avons créé une deuxième fonction externe : **exploration** (ligne 13). Pour l'instant, cette fonction appelle juste la fonction de la méthode d'exploration qui est donnée en paramètre. Elle a donc pour but d'organiser la liste des noeuds non traités selon la méthode d'exploration.\n",
    "\n",
    "Celle-ci prend donc les mêmes paramètres que la méthode d'exploration et un paramètre **explo** pour spécifier la règle d'exploration utilisé. Les autres paramètres sont : **arbre**, l'arbre d'énumération, **list_nodes**, liste des noeuds renvoyés par la règle de branchement."
   ]
  },
  {
   "cell_type": "markdown",
   "metadata": {},
   "source": [
    "Voici son implémenttation en python : "
   ]
  },
  {
   "cell_type": "code",
   "execution_count": 159,
   "metadata": {},
   "outputs": [],
   "source": [
    "def exploration(explo,arbre,list_nodes):\n",
    "    explo(arbre,list_nodes)"
   ]
  },
  {
   "cell_type": "markdown",
   "metadata": {},
   "source": [
    "Nous pouvons maintenant vous présenter notre méthode pour l'algorithme de Branch-and-Bound. Comme nous l'avons déjà précisé précédemment, cette méthode prend en paramètre : **instance**, l'instance du problème que nous voulons résoudre, **primale**, une borne primale initiale, **borne_duale**, la méthode pour calculer la borne duale, **Branchement**, la méthode de branchement et **explo**, la méthode d'exploration.\n",
    "\n",
    "\n",
    "En retour, elle renvoie la valeur optimale de l'objectif **arbre.primal_bound** , la solution optimale **Current_best_solution** et le nombre d'itérations de l'algorithme **k**."
   ]
  },
  {
   "cell_type": "markdown",
   "metadata": {},
   "source": [
    "Voici son implémentation en python : "
   ]
  },
  {
   "cell_type": "code",
   "execution_count": 160,
   "metadata": {},
   "outputs": [],
   "source": [
    "#Algorithme du branch-and-bound:\n",
    "def branch_and_bound(instance,primale,borne_duale,Branchement,explo):\n",
    "    \n",
    "    #Calcul de la borne primale initiale et itialisation de la meilleure solution courante:\n",
    "    p, Current_best_solution = primale(instance)\n",
    "    \n",
    "    #Création de l'arrbre d'énumération:\n",
    "    arbre=ArbreEnumeration(p) \n",
    "    \n",
    "    #Variable comptant le nombre d'itérations\n",
    "    k = 1\n",
    "    \n",
    "    #Boucle principale\n",
    "    while(arbre.indice_noeuds_non_traites != []):\n",
    "        #Récupération du premier noeud Pk dans Q et de la borne duale du problème associé\n",
    "        Pk, zD, isOptimal, solution = recuperationNoeud(arbre,explo,k,borne_duale,instance)\n",
    "        \n",
    "        #Disjonction des cas:\n",
    "        if(zD >= arbre.primal_bound):\n",
    "            #Si zD est plus grand que la borne primale courante, on élague (uniquement pour un problème de minimisation)\n",
    "            pass\n",
    "        elif(isOptimal):\n",
    "            #Si zD est optimale pour Pk, on met à jour la borne primale:\n",
    "            if zD < arbre.primal_bound:\n",
    "                #On met à jour la meilleure solution courante:\n",
    "                Current_best_solution = solution\n",
    "                arbre.primal_bound = zD\n",
    "        else:\n",
    "            #Sinon branchement et ajout des noeuds fils à l'arbre (en fonction de la méthode d'exploration):\n",
    "            list_nodes=Branchement(arbre,instance,Pk)\n",
    "            exploration(explo,arbre,list_nodes)\n",
    "        k+=1\n",
    "    return arbre.primal_bound, Current_best_solution, k"
   ]
  },
  {
   "cell_type": "markdown",
   "metadata": {},
   "source": [
    "Nous allons par la suite pouvoir vous présenter les différentes méthodes que nous avons adopté afin de résoudre les problèmes. "
   ]
  },
  {
   "cell_type": "markdown",
   "metadata": {},
   "source": [
    "### a) Méthode 1 *( Du début à la fin )* \n",
    "\n",
    "Nous avons commencé par une première méthode très simple : nous décidons de fixer l'ordre de passage des pièces à chaque niveau. Nous devions définir au moins une méthode d'exploration, une règle de branchement, une méthode de calcul pour la borne duale et une borne primale initiale."
   ]
  },
  {
   "cell_type": "markdown",
   "metadata": {},
   "source": [
    "Commencons par la règle de branchement. Considérons que le noeud racine est le problème initial P, c'est à dire qu'aucune pièce n'est pour le moment fixée.\n",
    "\n",
    "\n",
    "Nous commencons alors par créer un noeud pour chaque pièce en la fixant en 1ère position. Itérativement, au niveau k de l'arbre, nous créeons un noeud pour chaque pièce non usinée et nous l'usinons en k-ème position. \n",
    "\n",
    "Si nous prenons une instance avec 3 produits, voici l'arbre avec tous les noeuds possibles: "
   ]
  },
  {
   "cell_type": "markdown",
   "metadata": {},
   "source": [
    "![image.png](GrapheDebut.PNG)"
   ]
  },
  {
   "cell_type": "markdown",
   "metadata": {},
   "source": [
    "On peut dors et déjà constater que les feuilles de l'arbre correspondent chacune à une unique solution réalisable (L'ensemble des noeuds feuilles énumère toutes les solutions possible). Ainsi pour une instance contenant $n$ pièces, il y aura $n!$ feuilles dans l'arbre ou encore $n!$ solutions possibles au problème (soit $n!$ ordres de passage différents des pièces). Notons qu'il s'agit aussi du nombre de permutations possibles sur un ensemble de $n$ éléments qui vaut aussi $n!$. A chaque niveau $k$ de l'arbre ($k = 0,...,n$ où le niveau $k=0$ correspond au problème initial), il y a exactement $A_n^k = \\frac{n!}{(n-k)!}$ noeuds possibles où $A_n^k$ désigne le nombre d'arrangements de $k$ éléments sur un ensemble de $n$ éléments (Par exemple, sur l'exemple ci-dessus, au niveau 2, il y a $A_3^2 = 6$ noeuds). Cela siginifie aussi qu'il y a en tout $\\sum_{k=0}^n {A_n^k}$ noeuds possibles dans l'arbres d'énumération autrement dit lorsque le nombre $n$ de pièce à traiter augmente, la taille de l'arbre d'énumération explose. Les choix des méthodes utilisées dans l'algorithme de Branch-and-bound ont donc une grande importance car on peut très vite se retrouver à traiter beaucoup de noeuds (le pire cas consisterait à parcourir l'arbre entièrement et donc à visiter tout les noeuds possibles)."
   ]
  },
  {
   "cell_type": "markdown",
   "metadata": {},
   "source": [
    "La méthode de branchement prend en paramètre l'**arbre** d'énumération, l'**instance** du problème et **indice_pere** qui correspond à l'indice du noeud père dans la liste des noeuds et retourne la liste des noeuds crées (**new_node**)."
   ]
  },
  {
   "cell_type": "markdown",
   "metadata": {},
   "source": [
    "Voici son implémentation en python : "
   ]
  },
  {
   "cell_type": "code",
   "execution_count": 161,
   "metadata": {},
   "outputs": [],
   "source": [
    "def Branchement1(arbre,instance,indice_pere):\n",
    "    #recuperation du noeud que nous traitons\n",
    "    noeud=arbre.noeuds[indice_pere]\n",
    "    \n",
    "    #initialisation de la liste qui va contenir les noeuds que nous allons creer\n",
    "    new_node=[]\n",
    "    \n",
    "    #recuperation des pieces non usinees\n",
    "    pieces_non_usinees = [i for i in range(instance.nb_piece) if i not in noeud.info]\n",
    "    \n",
    "    #si il reste que deux pieces non usinees alors c'est un noeud fils\n",
    "    if(len(pieces_non_usinees) == 2):\n",
    "        position = True\n",
    "    else:\n",
    "        position = False\n",
    "        \n",
    "    #creation des nouveaux noeuds\n",
    "    for i in pieces_non_usinees:\n",
    "        new_info = noeud.info.copy()\n",
    "        new_info.append(i)\n",
    "        des = \"P\"\n",
    "        for piece in noeud.info:\n",
    "            des += str(piece)\n",
    "        des += str(i)\n",
    "        new_node.append(Noeud(des,position,new_info,indice_pere))\n",
    "        \n",
    "    #nous retournons la liste des nouveaux noeuds\n",
    "    return new_node"
   ]
  },
  {
   "cell_type": "markdown",
   "metadata": {},
   "source": [
    "Ensuite, nous devions trouver une manière d'évaluer les noeuds par le calcul de la borne duale. Pour cela, nous suivons la règle suivante :\n",
    "\n",
    "Si nous avons fixé l'ordre de k pièces, nous calculons les pénalités de retard de ces k pièces, puis nous ajoutons les pénalités des autres pièces en supposant qu'elles passent en (k+1)ème position.\n",
    "\n",
    "Par exemple, si nous prennons le noeud $P_{1,..,..}$ du dessin ci-dessus. Nous calculons la pénalité de retard de la pièce 1 en 1ère position puis nous calculons les pénalités de retard des pièces 2 et 3 comme si elles étaient en 2ème position."
   ]
  },
  {
   "cell_type": "markdown",
   "metadata": {},
   "source": [
    "Voici la méthode borne_duale1. Elle prend en paramètre le noeud ( **node** ) dont nous voulons calculé la borne duale ainsi que l'**instance** du problème. \n",
    "Enfin, elle retourne la valeur de la **borne** duale, **node.position** et **solution** qui est une solution réalisable dont sa valeur par la fonction objective est égale à la valeur de la borne duale si le noeud est un noeud feuille."
   ]
  },
  {
   "cell_type": "code",
   "execution_count": 162,
   "metadata": {},
   "outputs": [],
   "source": [
    "def borne_duale1(node,instance):\n",
    "    borne = 0\n",
    "    temps_utilise = 0\n",
    "    #Pénalités des pièces déjà usinées\n",
    "    for i in range(len(node.info)):\n",
    "        date_fin = 0\n",
    "        for j in range(i+1):\n",
    "           date_fin += instance.unite_temps[node.info[j]] \n",
    "        borne += max(0,date_fin - instance.deadlines[node.info[i]])*instance.penalites[node.info[i]]\n",
    "        temps_utilise += instance.unite_temps[node.info[i]]\n",
    "    #Liste des pièces non-usinées\n",
    "    pieces_non_usinees = [i for i in range(instance.nb_piece) if i not in node.info]\n",
    "    #Pénalités des pièces non-usinées\n",
    "    for i in pieces_non_usinees:\n",
    "        borne += max(0,temps_utilise + instance.unite_temps[i] - instance.deadlines[i])*instance.penalites[i]\n",
    "    if(node.position):\n",
    "        solution = node.info.copy()\n",
    "        solution += pieces_non_usinees\n",
    "    else:\n",
    "        solution = None\n",
    "    return borne, node.position,solution"
   ]
  },
  {
   "cell_type": "markdown",
   "metadata": {},
   "source": [
    "Pour accélérer l'algorithme et élaguer le maximum de noeud dès le début de l'algorithme, nous avons voulu fournir une borne primale initiale à l'algorithme. Pour cela, nous prenons la solution réalisable la plus simple. Nous usinons les pièces les unes à la suite des autres dans l'ordre croissant. \n",
    "\n",
    "Si nous reprenons l'exemple avec 3 produits, nous prenons comme solution réalisable $P_{1,2,3}$ afin de calculer une borne primale."
   ]
  },
  {
   "cell_type": "markdown",
   "metadata": {},
   "source": [
    "La méthode pour la calculer prend en paramètre l'**instance** du problème et retourne la **borne** primale ainsi que la **solution** réalisable associée.\n",
    "\n",
    "Voici son implémentation en python : "
   ]
  },
  {
   "cell_type": "code",
   "execution_count": 163,
   "metadata": {},
   "outputs": [],
   "source": [
    "def primale1(instance):\n",
    "    borne = 0\n",
    "    solution = []\n",
    "    for i in range(instance.nb_piece):\n",
    "        date_fin = 0\n",
    "        for j in range(i+1):\n",
    "            date_fin += instance.unite_temps[j]\n",
    "        if(date_fin >= instance.deadlines[i]):\n",
    "            borne += max(0,date_fin - instance.deadlines[i])*instance.penalites[i]\n",
    "        solution.append(i)\n",
    "    return(borne,solution)"
   ]
  },
  {
   "cell_type": "markdown",
   "metadata": {},
   "source": [
    "Enfin, nous devions terminer par implémenter une ou plusieurs méthode d'exploration. Pour la première méthode, nous avons défini les 2 méthodes d'exploration les plus connues : parcours en profondeur ( **DFS** ) et parcours en largeur ( **BFS** ).\n",
    "\n",
    "\n",
    "La seule différence est que pour le parcours en profondeur, nous utilisons une pile et la règle premier arrivé, dernier servi alors que pour le parcours en largeur, nous utilisons une file et la règle premier arrivé, permier servi.\n",
    "\n",
    "Cette différence dans les 2 méthodes se modélisent par la position des indices des noeuds rajoutés dans la liste des noeuds non traités : soit nous les rajoutons à la fin ( **DFS** ) soit au début ( **BFS** ).\n",
    "\n",
    "Les 2 méthodes prennent en paramètre l'**arbre** d'énumération ainsi que la liste des nouveaux noeuds( **list_nodes** ).\n",
    "\n",
    "Voici leur implémentation en python : "
   ]
  },
  {
   "cell_type": "code",
   "execution_count": 164,
   "metadata": {},
   "outputs": [],
   "source": [
    "def depth_first_method(arbre,list_nodes): \n",
    "    n=len(list_nodes) #nombre de noeuds ajoutes\n",
    "    arbre.nombre_noeuds+=n #augmentation du nombre de noeuds\n",
    "    arbre.nombre_noeuds_non_traites+=n #augmentation du nombre de noeuds non traites\n",
    "    arbre.noeuds+= list_nodes #ajout des nouveaux noeuds\n",
    "    #ajout des indices selon la méthode d'exploration\n",
    "    arbre.indice_noeuds_non_traites+= [i for i in range(arbre.nombre_noeuds-n,arbre.nombre_noeuds)]\n",
    "    \n",
    "def breadth_first_method(arbre,list_nodes):\n",
    "    n=len(list_nodes) #nombre de noeuds ajoutes\n",
    "    arbre.nombre_noeuds+=n #augmentation du nombre de noeuds\n",
    "    arbre.nombre_noeuds_non_traites+=n #augmentation du nombre de noeuds non traites\n",
    "    arbre.noeuds += list_nodes #ajout des nouveaux noeuds\n",
    "    #ajout des indices selon la méthode d'exploration\n",
    "    arbre.indice_noeuds_non_traites = [i for i in range(arbre.nombre_noeuds-n,arbre.nombre_noeuds)] + arbre.indice_noeuds_non_traites"
   ]
  },
  {
   "cell_type": "markdown",
   "metadata": {},
   "source": [
    "Nous avions enfin terminé l'implémentation de toutes les méthodes nécessaires au fonctionnement de l'algorithme de Branch-and-Bound. Afin de tester sa validité, nous l'avons tester sur l'exemple simple avec 4 pièces présenté lors de la première partie sur la création de la classe ordonnancement et comparer nos résultats avec le résultat du modèle PLNE associé."
   ]
  },
  {
   "cell_type": "markdown",
   "metadata": {},
   "source": [
    "Voici un petit rappel du problème : "
   ]
  },
  {
   "cell_type": "markdown",
   "metadata": {},
   "source": [
    "![title](Exemple.PNG)"
   ]
  },
  {
   "cell_type": "markdown",
   "metadata": {},
   "source": [
    "Voici nos résultats : "
   ]
  },
  {
   "cell_type": "code",
   "execution_count": 170,
   "metadata": {},
   "outputs": [
    {
     "name": "stdout",
     "output_type": "stream",
     "text": [
      "\n",
      "SOLUTION OBTENUE PLNE:\n",
      "\n",
      "Solve with CBC, Status: Optimal\n",
      "Total des pénalités: 67.0\n",
      "Ordre d'usinage des pièces: [0, 1, 3, 2]\n",
      "Temps exécution pulp:  0.024926185607910156 s\n",
      "\n",
      "\n",
      "SOLUTION OBTENUE B&B METHODE 1 (DFS) : \n",
      "\n",
      "z =  67 , x =  [0, 1, 3, 2]\n",
      "Temps exécution B&B:  0.0 s\n",
      "Nombre d'itérations:  32\n",
      "\n",
      "\n",
      "SOLUTION OBTENUE B&B METHODE 1 (BFS) : \n",
      "\n",
      "z =  67 , x =  [0, 1, 3, 2]\n",
      "Temps exécution B&B:  0.0 s\n",
      "Nombre d'itérations:  40\n"
     ]
    }
   ],
   "source": [
    "#Resolution PLNE\n",
    "t1_plne = time.time()\n",
    "Exemple.resolutionPLNE()\n",
    "t2_plne = time.time()\n",
    "print(\"Temps exécution pulp: \",t2_plne-t1_plne,\"s\")\n",
    "\n",
    "#Méthode 1 avec un parcours en profondeur (DFS):\n",
    "t1_bb1 = time.time()\n",
    "z1,x1,k1 = branch_and_bound(Exemple,primale1,borne_duale1,Branchement1,depth_first_method)\n",
    "t2_bb1 = time.time()\n",
    "\n",
    "print(\"\\n\\nSOLUTION OBTENUE B&B METHODE 1 (DFS) : \\n\\nz = \",z1,\", x = \",x1)\n",
    "print(\"Temps exécution B&B: \",t2_bb1-t1_bb1,\"s\")\n",
    "print(\"Nombre d'itérations: \",k1)\n",
    "\n",
    "#Méthode 1 avec un parcours en largeur (BFS):\n",
    "t1_bb2 = time.time()\n",
    "z2,x2,k2 = branch_and_bound(Exemple,primale1,borne_duale1,Branchement1,breadth_first_method)\n",
    "t2_bb2 = time.time()\n",
    "\n",
    "print(\"\\n\\nSOLUTION OBTENUE B&B METHODE 1 (BFS) : \\n\\nz = \",z2,\", x = \",x2)\n",
    "print(\"Temps exécution B&B: \",t2_bb2-t1_bb2,\"s\")\n",
    "print(\"Nombre d'itérations: \",k2)"
   ]
  },
  {
   "cell_type": "markdown",
   "metadata": {},
   "source": [
    "Nous avons alors observé que la première méthode avec les 2 méthodes d'exploration différentes nous donnait les mêmes résultats que le PLNE sur un exemple simple. De plus, nous avons observé que pour un exemple simple, le temps d'éxécution et le nombre d'itérations n'étaient pour le moment pas élevés.\n",
    "\n",
    "Avant de continuer à valider notre méthode sur plus d'exemples et analyser sa performance, nous avons décidé de développer une deuxième méthode."
   ]
  },
  {
   "cell_type": "markdown",
   "metadata": {},
   "source": [
    "### b) Méthode 2 *(En partant de la fin)*"
   ]
  },
  {
   "cell_type": "markdown",
   "metadata": {},
   "source": [
    "Notre première méthode consistait à fixer l'ordre d'usinage des pièces en partant du début : On fixe d'abord la pièce qui passe en premier, puis la pièce qui passe en deuxième... Or, on peut remarquer que ce ne sont pas les premières pièces usinées qui sont les plus succeptibles de donner lieu à des pénalités de retard mais plutôt celles fixées en dernier. On peut ainsi établir une nouvelle règle de branchement que l'on peut formuler de la manière suivante : Au niveau $k$, on crée un noeud pour chaque pièce non-traitée et on la fixe à la $(n-k+1)^{ème}$ position. Autrement dit, on commence par fixer les pièces non-traitées en dernier.\\\n",
    "L'arbre suivant représente une instance contenant 3 pièces à usiner. Comme pour la méthode présenté précédement notons que le noeud racine est le problème initial et que les noeuds feuilles correspondent à une solution réalisable unique. Pour une instance contenant $n$ pièces, l'arbre dévellopé entièrement possèdera $n!$ feuilles (donc il y a toujours $n!$ solutions). De même, le nombre total de noeuds (nombre total de noeuds possibles) dans l'arbres est $\\sum_{k=0}^{n}{A_n^k}$. "
   ]
  },
  {
   "cell_type": "markdown",
   "metadata": {},
   "source": [
    "![image.png](GrapheFin.PNG)"
   ]
  },
  {
   "cell_type": "markdown",
   "metadata": {},
   "source": [
    "Cette méthode de branchement est implémenté dans la fonction **Branchement2**. Comme pour la méthode de branchement précédente, celle-ci prend en paramètre l'**arbre** d'énumération, l'**instance** du problème et **indice_pere** qui correspond à l'indice du noeud père dans la liste des noeuds et retourne la liste des noeuds crées (**new_node**)."
   ]
  },
  {
   "cell_type": "code",
   "execution_count": 171,
   "metadata": {},
   "outputs": [],
   "source": [
    "def Branchement2(arbre,instance,indice_pere):\n",
    "    #recuperation du noeud que nous traitons\n",
    "    noeud=arbre.noeuds[indice_pere]\n",
    "    \n",
    "    #initialisation de la liste qui va contenir les noeuds que nous allons creer\n",
    "    new_node=[]\n",
    "    \n",
    "    #recuperation des pieces non usinees\n",
    "    pieces_non_usinees = [i for i in range(instance.nb_piece) if i not in noeud.info]\n",
    "    \n",
    "    #si il reste que deux pieces non usinees alors c'est un noeud fils\n",
    "    if(len(pieces_non_usinees) == 2):\n",
    "        position = True\n",
    "    else:\n",
    "        position = False\n",
    "    \n",
    "    #creation des nouveaux noeuds\n",
    "    for i in pieces_non_usinees:\n",
    "        new_info = noeud.info.copy()\n",
    "        new_info.insert(0,i)\n",
    "        des = \"P\"\n",
    "        for piece in pieces_non_usinees:\n",
    "            des += \".\"\n",
    "        for piece in noeud.info:\n",
    "            des += str(piece)\n",
    "        des += str(i)\n",
    "        new_node.append(Noeud(des,position,new_info,indice_pere))\n",
    "        \n",
    "    #nous retournons la liste des nouveaux noeuds\n",
    "    return new_node"
   ]
  },
  {
   "cell_type": "markdown",
   "metadata": {},
   "source": [
    "Pour cette nouvelle technique, la méthode d'évaluation devient la suivante. Pour un noeud donné, on calcul les pénalités de retard des pièces dont l'ordre est fixé en considérant que la dernière pièce se termine à la date $\\sum_{j\\in J}{T_j}$. On en déduit ainsi la borne duale associée à ce noeud.\\\n",
    "Prenons par exemple, le noeud $P_{.,.,2}$ sur l'arbre présenté ci-dessus. La pièce 2 sera usiné en dernier et donc à la date $\\sum_{j=1}^{3}{T_j}$. Elle engendrera donc un retard de $max(0,\\sum_{j=1}^3{T_j}-d_2)$. Ainsi la borne duale de ce noeud aura pour valeur:\n",
    "\n",
    "$$z_D^{(.,.,2)} = max(0,\\sum_{j=1}^3{T_j}-d_2)\\omega_2$$"
   ]
  },
  {
   "cell_type": "markdown",
   "metadata": {},
   "source": [
    "Tout ceci se résume dans la fonction borne_duale2. Sur le même modèle que la fonction précédente, elle prend en paramètre le noeud ( **node** ) dont nous voulons calculé la borne duale ainsi que l'**instance** du problème. \n",
    "Enfin, elle retourne la valeur de la **borne** duale, **node.position** et **solution** qui est une solution réalisable dont sa valeur par la fonction objective est égale à la valeur de la borne duale si le noeud est un noeud feuille."
   ]
  },
  {
   "cell_type": "code",
   "execution_count": 172,
   "metadata": {},
   "outputs": [],
   "source": [
    "def borne_duale2(node,instance):\n",
    "    borne = 0\n",
    "    for i in range(len(node.info)-1,-1,-1):\n",
    "        date_fin = sum(instance.unite_temps)\n",
    "        for j in range(len(node.info)-1,i,-1):\n",
    "            #Mise à jour de la date de fin d'usinage vis-à-vis des pièces déjà fixées\n",
    "            date_fin -= instance.unite_temps[node.info[j]]\n",
    "        #On paye les pénalités des pièces déja fixées\n",
    "        borne += max(0,date_fin - instance.deadlines[node.info[i]])*instance.penalites[node.info[i]]\n",
    "    if(node.position):\n",
    "        solution = node.info.copy()\n",
    "        noeuds_manquants = [x for x in range(instance.nb_piece) if x not in solution ]\n",
    "        solution = noeuds_manquants + solution\n",
    "        for i in range(len(noeuds_manquants)):\n",
    "            borne += max(0,instance.unite_temps[noeuds_manquants[i]] - instance.deadlines[noeuds_manquants[i]])*instance.penalites[noeuds_manquants[i]]\n",
    "    else:\n",
    "        solution = None\n",
    "    return borne, node.position,solution"
   ]
  },
  {
   "cell_type": "markdown",
   "metadata": {},
   "source": [
    "Pour l'instant, nous nous contenterons d'utiliser les mêmes méthodes de parcours d'arbre et de calcul de borne primale présentées pour la méthode précédente. "
   ]
  },
  {
   "cell_type": "markdown",
   "metadata": {},
   "source": [
    "Testons maintenant la validité de cette seconde implémentation en traitant l'exemple simple avec 4 pièces traité dans la partie partie précédente (on s'attend évidemment à trouver la même valeur optimale).\\\n",
    "Les données du problème restent inchangées:"
   ]
  },
  {
   "cell_type": "markdown",
   "metadata": {},
   "source": [
    "![title](Exemple.PNG)"
   ]
  },
  {
   "cell_type": "markdown",
   "metadata": {},
   "source": [
    "Voici, les résultats de la résolution:"
   ]
  },
  {
   "cell_type": "code",
   "execution_count": 173,
   "metadata": {},
   "outputs": [
    {
     "name": "stdout",
     "output_type": "stream",
     "text": [
      "\n",
      "SOLUTION OBTENUE PLNE:\n",
      "\n",
      "Solve with CBC, Status: Optimal\n",
      "Total des pénalités: 67.0\n",
      "Ordre d'usinage des pièces: [0, 1, 3, 2]\n",
      "Temps exécution pulp:  0.02108025550842285 s\n",
      "\n",
      "\n",
      "SOLUTION OBTENUE B&B METHODE 2 (DFS) : \n",
      "\n",
      "z =  67 , x =  [0, 1, 3, 2]\n",
      "Temps exécution B&B:  0.0 s\n",
      "Nombre d'itérations:  14\n",
      "\n",
      "\n",
      "SOLUTION OBTENUE B&B METHODE 2 (BFS) : \n",
      "\n",
      "z =  67 , x =  [0, 1, 3, 2]\n",
      "Temps exécution B&B:  0.0 s\n",
      "Nombre d'itérations:  24\n"
     ]
    }
   ],
   "source": [
    "#Resolution PLNE\n",
    "t1_plne = time.time()\n",
    "Exemple.resolutionPLNE()\n",
    "t2_plne = time.time()\n",
    "print(\"Temps exécution pulp: \",t2_plne-t1_plne,\"s\")\n",
    "\n",
    "#Méthode 2 avec un parcours en profondeur (DFS):\n",
    "t1_bb1 = time.time()\n",
    "z1,x1,k1 = branch_and_bound(Exemple,primale1,borne_duale2,Branchement2,depth_first_method)\n",
    "t2_bb1 = time.time()\n",
    "\n",
    "print(\"\\n\\nSOLUTION OBTENUE B&B METHODE 2 (DFS) : \\n\\nz = \",z1,\", x = \",x1)\n",
    "print(\"Temps exécution B&B: \",t2_bb1-t1_bb1,\"s\")\n",
    "print(\"Nombre d'itérations: \",k1)\n",
    "\n",
    "#Méthode 2 avec un parcours en largeur (BFS):\n",
    "t1_bb2 = time.time()\n",
    "z2,x2,k2 = branch_and_bound(Exemple,primale1,borne_duale2,Branchement2,breadth_first_method)\n",
    "t2_bb2 = time.time()\n",
    "\n",
    "print(\"\\n\\nSOLUTION OBTENUE B&B METHODE 2 (BFS) : \\n\\nz = \",z2,\", x = \",x2)\n",
    "print(\"Temps exécution B&B: \",t2_bb2-t1_bb2,\"s\")\n",
    "print(\"Nombre d'itérations: \",k2)"
   ]
  },
  {
   "cell_type": "markdown",
   "metadata": {},
   "source": [
    "Nous pouvons observer que nous obtenons le même résutat qu'avec la méthode 1 (comme c'était attendu). On peut aussi constater que la méthode d'exploration en profondeur semble de nouveau être plus rapide que la méthode de parcours en largeur (nous reviendrons plus tard en détail sur ce point par la suite) et peut déjà noter que le nombre d'itérations effectuées pour résoudre cet exemple avec la méthode 2 est plus faible que celui nécessaire pour le résoudre avec la méthode 1."
   ]
  },
  {
   "cell_type": "markdown",
   "metadata": {},
   "source": [
    "Nous pouvons maintenant comparer les résultats des 2 méthodes en temps d'éxécution et en nombre d'itérations. Pour cela, nous allons calculer le temps d'éxécution et le nombre d'itérations de chaque méthode avec des instances allant de 1 à 9 produits. Nous allons aussi comparer leur valeur optimale afin de valider une seconde fois toutes les méthodes. \n",
    "\n",
    "Ci-dessous, voici le code utilisé afin de réaliser l'expérience et nos résultats : (Attention l'exécution peut-être très longue) "
   ]
  },
  {
   "cell_type": "code",
   "execution_count": 151,
   "metadata": {},
   "outputs": [
    {
     "ename": "SyntaxError",
     "evalue": "invalid syntax (<ipython-input-151-783d3891fe38>, line 61)",
     "output_type": "error",
     "traceback": [
      "\u001b[1;36m  File \u001b[1;32m\"<ipython-input-151-783d3891fe38>\"\u001b[1;36m, line \u001b[1;32m61\u001b[0m\n\u001b[1;33m    plt.plot(val,[z[1] for z in t]label=l)\u001b[0m\n\u001b[1;37m                                      ^\u001b[0m\n\u001b[1;31mSyntaxError\u001b[0m\u001b[1;31m:\u001b[0m invalid syntax\n"
     ]
    }
   ],
   "source": [
    "#différentes tailles d'instance pour les tests\n",
    "val=[i for i in range(1,10)]\n",
    "\n",
    "#liste pour sauvegarder tps d'execution et nb iterations\n",
    "t_plne=[] ;t_m1_dfs=[] ; t_m1_bfs=[] ; t_m2_dfs=[] ; t_m2_bfs=[]\n",
    "\n",
    "\n",
    "for n in val:\n",
    "    print(\"taille instance = \",n,\"test égalite valeur optimale : \", end=\"\")\n",
    "    probleme = Ordonnancement()\n",
    "    probleme.problemeAleatoire(n)\n",
    "    \n",
    "    #Resolution PLNE\n",
    "    t1_plne = time.time()\n",
    "    probleme.resolutionPLNE(afficheTout=0)\n",
    "    t_plne.append(time.time()-t1_plne)\n",
    "    \n",
    "    #Méthode 1 avec un parcours en profondeur (DFS):\n",
    "    t1_bb1 = time.time()\n",
    "    z1,x1,k1 = branch_and_bound(probleme,primale1,borne_duale1,Branchement1,depth_first_method)\n",
    "    print(\" z1 = \",z1,end=\"\")\n",
    "    t_m1_dfs.append([time.time()-t1_bb1,k1])\n",
    "\n",
    "\n",
    "    #Méthode 1 avec un parcours en largeur (BFS):\n",
    "    t1_bb2 = time.time()\n",
    "    z2,x2,k2 = branch_and_bound(probleme,primale1,borne_duale1,Branchement1,breadth_first_method)\n",
    "    print(\" z2 = \",z2,end=\"\")\n",
    "    t_m1_bfs.append([time.time()-t1_bb2,k2])\n",
    "\n",
    "\n",
    "    #Méthode 1 avec un parcours en profondeur (DFS):\n",
    "    t1_bb3 = time.time()\n",
    "    z3,x3,k3 = branch_and_bound(probleme,primale1,borne_duale2,Branchement2,depth_first_method)\n",
    "    print(\" z3 = \",z3,end=\"\")\n",
    "    t_m2_dfs.append([time.time()-t1_bb3,k3])\n",
    "\n",
    "\n",
    "    #Méthode 1 avec un parcours en largeur (BFS):\n",
    "    t1_bb4 = time.time()\n",
    "    z4,x4,k4 = branch_and_bound(probleme,primale1,borne_duale2,Branchement2,breadth_first_method)\n",
    "    print(\" z4 = \",z4)\n",
    "    t_m2_bfs.append([time.time()-t1_bb4,k4])\n",
    "\n",
    "\n",
    "#affichage resultats\n",
    "plt.figure(figsize=(15,6))\n",
    "plt.suptitle(\"Analyse du temps d'exécution et du nombre d'itérations des différentes méthodes \\n en fonction de la taille de l'instance\")\n",
    "\n",
    "label=[\"methode1-dfs\",\"methode1-bfs\",\"methode2-dfs\",\"methode2-bfs\"]\n",
    "plt.subplot(121)\n",
    "plt.plot(val,t_plne,label=\"PLNE\")\n",
    "for t,l in zip([t_m1_dfs,t_m1_bfs,t_m2_dfs,t_m2_bfs],label):\n",
    "    plt.plot(val,[z[0] for z in t],label=l)\n",
    "plt.ylabel(\"Temps ( en secondes )\")\n",
    "plt.xlabel(\"Taille du problème\")\n",
    "plt.legend()\n",
    "    \n",
    "plt.subplot(122)\n",
    "for (t,l) in zip([t_m1_dfs,t_m1_bfs,t_m2_dfs,t_m2_bfs],label):\n",
    "    plt.plot(val,[z[1] for z in t],label=l)\n",
    "plt.ylabel(\"Nombre d'itérations\")\n",
    "plt.xlabel(\"Taille du problème\")\n",
    "plt.legend()\n",
    "\n",
    "plt.show()"
   ]
  },
  {
   "cell_type": "markdown",
   "metadata": {},
   "source": [
    "Premièrement, nous observons que toutes nos méthodes nous donnent la même valeur optimale de la fonction objective pour les différentes tailles du problème. Nous pouvons donc valider le fonctionnement des différentes méthodes."
   ]
  },
  {
   "cell_type": "markdown",
   "metadata": {},
   "source": [
    "Deuxièment, nous observons que la méthode d'exploration influe énormément sur le temps d'exécution. En effet, nous observons que les 2 méthodes qui prennent le plus de temps et dont le temps explosent sont les méthodes 1 et 2 avec un parcours en largeur. A l'inverse, pour 9 produits, les temps d'exécution des méthodes 1 et 2 avec un parcours en profondeur restent faible, elles vont aussi voir plus vite que la résolution par le modèle PLNE. "
   ]
  },
  {
   "cell_type": "markdown",
   "metadata": {},
   "source": [
    "Cette différence sur les temps d'exécution s'explique par le nombre de noeuds visités. En effet, le nombre de noeud visités est égale au nombre d'itérations et nous observons que celui-ci augmente de la même manière que le temps d'exécution. \n",
    "\n",
    "Dans le cas des parcours en largeur, le nombre de noeuds visité est très grand. Ceci peut s'expliquer par le fait que la borne primale initiale n'est pas bonne. Par conséquent, l'algorithme de B&B doit atteindre un noeud fille afin d'essayer d'obtenir une meilleure borne primale. Malheureusement, dans le cas d'un parcours en largeur, l'algorithme de B&B doit tout d'abord visiter les noeuds de tous les autres niveaux avant d'atteindre le dernier niveau avec les noeuds filles et donc obtenir une meilleure borne primale."
   ]
  },
  {
   "cell_type": "markdown",
   "metadata": {},
   "source": [
    "Par conséquent, notre objectif afin d'obtenir de meilleurs résultats va être de développer des techniques donnant de meilleures bornes primales initiales. Nous allons aussi tenter d'utiliser d'autres méthode d'exploration qui permettraient d'élaguer plus de noeuds et donc de diminuer le nombre d'itérations."
   ]
  },
  {
   "cell_type": "markdown",
   "metadata": {},
   "source": [
    "### c) Nouvelles méthodes de parcours"
   ]
  },
  {
   "cell_type": "markdown",
   "metadata": {},
   "source": [
    "Comme nous avons expliqué dans la partie suivante, afin de diminuer le nombre de noeuds visites nous pouvons essayer d'autre méthode d'exploration. Dans notre cas, nous allons en utiliser 2 autres."
   ]
  },
  {
   "cell_type": "markdown",
   "metadata": {},
   "source": [
    "Premièrement, nous allons nous intéresser à la méthode d'exploration du meilleur d'abord. Cette méthode consiste à calculer la borne duale de chaque noeud lors de sa création puis de traiter le noeud avec la meilleure borne duale, donc dans un problème de minimisation la plus petite borne duale."
   ]
  },
  {
   "cell_type": "markdown",
   "metadata": {},
   "source": [
    "Afin de trier les noeuds dans l'ordre croissant des valeurs des bornes duales, nous allons utiliser un tas min binaire. cette structure de données permet de récupérer le plus petit élement d'une liste en **O(1)**."
   ]
  },
  {
   "cell_type": "markdown",
   "metadata": {},
   "source": [
    "La méthode d'exploration du meilleur d'abord prend les mêmes paramètres que les autres méthodes d'exploration en rajoutant **borne_duale** afin de calculer la valeur de la borne duale lors de sa création et **instance** dont nous avons besoin pour calculer la borne duale. \n",
    "\n",
    "Son fonctionnement est très similaire, la seule différence se trouve au niveau la liste des indices non traités. En effet, cette fois-ci, nous travaillons avec un tas min binaire donc nous uitlisons les méthodes associées au tas min binaire. De plus, nous devons stocker les informations renvoyées par la méthode de calcul de la borne duale. Pour cela, nous les mettons en paramètres supplémentaires dans le tas min binaire"
   ]
  },
  {
   "cell_type": "markdown",
   "metadata": {},
   "source": [
    "Voici l'implémentation de la méthode d'exploration meilleur d'abord en python : "
   ]
  },
  {
   "cell_type": "code",
   "execution_count": 174,
   "metadata": {},
   "outputs": [],
   "source": [
    "def best_first_method(arbre,list_nodes,borne_duale,instance):\n",
    "    n=len(list_nodes)\n",
    "    arbre.nombre_noeuds+=n\n",
    "    arbre.nombre_noeuds_non_traites+=n\n",
    "    arbre.noeuds += list_nodes\n",
    "    for i in range(arbre.nombre_noeuds-n,arbre.nombre_noeuds):\n",
    "        zD, isOptimal, solution  = borne_duale(arbre.noeuds[i],instance)\n",
    "        heappush(arbre.indice_noeuds_non_traites,(zD,isOptimal,solution,i))"
   ]
  },
  {
   "cell_type": "markdown",
   "metadata": {},
   "source": [
    "Par la suite, afin d'utiliser cette méthode d'exploration avec l'algorithme de B&B, nous allons devoir modifier les méthodes **recuperationNoeud** et **exploration**. Cependant, nous allons d'abord vous présenter une autre méthode d'exploration puis modifier les 2 méthodes nommées ci-dessus."
   ]
  },
  {
   "cell_type": "markdown",
   "metadata": {},
   "source": [
    "La deuxième méthode d'exploration est un mix entre 2 méthodes : exploration en profondeur et meilleur d'abord. En effet, l'objectif de cette méthode, est d'effectuer premièrement une exploration en profondeur de l'arbre afin de trouver une bonne borne primale puis d'effectuer la méthode du meilleur d'abord avec cette nouvelle borne primale."
   ]
  },
  {
   "cell_type": "markdown",
   "metadata": {},
   "source": [
    "Afin de l'implémenter, nous devons tout d'abord rajouter un nouveau paramètre à la classe **ArbreEnumeration**. Il correspond à une variable booléenne qui indique si oui ou non il y a eu deja une modification de la borne primale, c'est à dire si nous avons déjà atteint un noeud fille avec une meilleure borne primale que la borne primale initiale. Nous le nommons : **first_update_primal**.\n",
    "\n",
    "Voici la modification dans la classe **ArbreEnumeration** : "
   ]
  },
  {
   "cell_type": "code",
   "execution_count": 175,
   "metadata": {},
   "outputs": [],
   "source": [
    "class ArbreEnumeration:\n",
    "    \n",
    "    def __init__(self,p1):\n",
    "            self.nombre_noeuds=1\n",
    "            self.nombre_noeuds_non_traites = 1\n",
    "            self.noeuds = [Noeud(\"Problème initiale\",False)]\n",
    "            self.first_update_primal = False\n",
    "            self.indice_noeuds_non_traites= [0]\n",
    "            self.primal_bound=p1"
   ]
  },
  {
   "cell_type": "markdown",
   "metadata": {},
   "source": [
    "Par la suite, nous pouvons définir maintenant cette méthode d'exploration mix. Elle prend les même paramètres que la méthode d'exploration meilleur d'abord. Son fonctionnement est séparé en 2 parties. Nous commencons par un parcours en profondeur avec une légère modification : nous calculons déjà la borne duale et nous stockons les informations de la borne duale avec l'indice asscoié dans l'indice des noeuds non traités. Cela permet par la suite de passer à la méthode du meilleur d'abord et donc lors de la première modification, nous pouvons créer le tas minimum binaire puis travailler avec celui-ci lors des itérations suivantes. \n",
    "\n",
    "Voici l'implémentation de la méthode **mixed_method** en python : "
   ]
  },
  {
   "cell_type": "code",
   "execution_count": 176,
   "metadata": {},
   "outputs": [],
   "source": [
    "def mixed_method(arbre,list_nodes,borne_duale,instance):\n",
    "    #parcours en profondeur\n",
    "    if(not arbre.first_update_primal):\n",
    "        mixed_method.cpt=0 #compteur qui permet de savoir le nombre d'iteration avec la methode meilleur d'abord\n",
    "        n=len(list_nodes)\n",
    "        arbre.nombre_noeuds+=n\n",
    "        arbre.nombre_noeuds_non_traites+=n\n",
    "        arbre.noeuds += list_nodes\n",
    "        for i in range(arbre.nombre_noeuds-n,arbre.nombre_noeuds):\n",
    "            zD, isOptimal, solution  = borne_duale(arbre.noeuds[i],instance)\n",
    "            arbre.indice_noeuds_non_traites.append((zD,isOptimal,solution,i))\n",
    "    else:\n",
    "        mixed_method.cpt+=1\n",
    "        #transformation de la liste en tas min binaire\n",
    "        if(mixed_method.cpt==1):\n",
    "            arbre.indice_noeuds_non_traites = heapify(arbre.indice_noeuds_non_traites)\n",
    "            \n",
    "        #methode meilleur d'abord\n",
    "        n=len(list_nodes)\n",
    "        arbre.nombre_noeuds+=n\n",
    "        arbre.nombre_noeuds_non_traites+=n\n",
    "        arbre.noeuds += list_nodes\n",
    "        for i in range(arbre.nombre_noeuds-n,arbre.nombre_noeuds):\n",
    "            zD, isOptimal, solution  = borne_duale(arbre.noeuds[i],instance)\n",
    "            heappush(arbre.indice_noeuds_non_traites,(zD,isOptimal,solution,i))"
   ]
  },
  {
   "cell_type": "markdown",
   "metadata": {},
   "source": [
    "Nous avons donc défini 2 nouvelles méthodes d'exploration, nous devons maintenant modifier les méthodes **exploration** et **recuperationNoeud**. \n",
    "\n",
    "Commencons par **exploration**. La modification est toute simple. La seule différence est les paramètres pris en entrée pour les méthodes d'exploration. En effet, les 2 nouvelles méthodes ont 2 paramètres de plus qui sont **borne_duale** et **instance**. \n",
    "\n",
    "Ainsi, voici la nouvelle méthode exploration : "
   ]
  },
  {
   "cell_type": "code",
   "execution_count": 177,
   "metadata": {},
   "outputs": [],
   "source": [
    "def exploration(explo,arbre,list_nodes,borne_duale,instance):\n",
    "    if(explo not in [best_first_method,mixed_method]):\n",
    "        explo(arbre,list_nodes)\n",
    "    else:\n",
    "        explo(arbre,list_nodes,borne_duale,instance)"
   ]
  },
  {
   "cell_type": "markdown",
   "metadata": {},
   "source": [
    "Comme les paramètres de la méthode exploration ne sont pas la même, nous devons modifier modifier l'algorithme de B&B en modifiant seulement la signature de la méthode d'exploration : "
   ]
  },
  {
   "cell_type": "code",
   "execution_count": 180,
   "metadata": {},
   "outputs": [],
   "source": [
    "#Algorithme du branch-and-bound:\n",
    "def branch_and_bound(instance,primale,borne_duale,Branchement,explo):\n",
    "    \n",
    "    #Calcul de la borne primale initiale et itialisation de la meilleure solution courante:\n",
    "    p, Current_best_solution = primale(instance)\n",
    "    \n",
    "    #Création de l'arrbre d'énumération:\n",
    "    arbre=ArbreEnumeration(p) \n",
    "    \n",
    "    #Variable comptant le nombre d'itérations\n",
    "    k = 1\n",
    "    \n",
    "    #Boucle principale\n",
    "    while(arbre.indice_noeuds_non_traites != []):\n",
    "        #Récupération du premier noeud Pk dans Q et de la borne duale du problème associé\n",
    "        Pk, zD, isOptimal, solution = recuperationNoeud(arbre,explo,k,borne_duale,instance)\n",
    "        \n",
    "        #Disjonction des cas:\n",
    "        if(zD >= arbre.primal_bound):\n",
    "            #Si zD est plus grand que la borne primale courante, on élague (uniquement pour un problème de minimisation)\n",
    "            pass\n",
    "        elif(isOptimal):\n",
    "            #Si zD est optimale pour Pk, on met à jour la borne primale:\n",
    "            if zD < arbre.primal_bound:\n",
    "                #On met à jour la meilleure solution courante:\n",
    "                Current_best_solution = solution\n",
    "                arbre.primal_bound = zD\n",
    "        else:\n",
    "            #Sinon branchement et ajout des noeuds fils à l'arbre (en fonction de la méthode d'exploration):\n",
    "            list_nodes=Branchement(arbre,instance,Pk)\n",
    "            exploration(explo,arbre,list_nodes,borne_duale,instance)\n",
    "        k+=1\n",
    "    return arbre.primal_bound, Current_best_solution, k"
   ]
  },
  {
   "cell_type": "markdown",
   "metadata": {},
   "source": [
    "Pour **recuperationNoeud** , il y a 2 modifications. \n",
    "\n",
    "Premièrement, cette fois-ci, indice_noeuds_non_traites ne contient pas que les indices mais aussi les informations retournés par la méthode de calcul de la borne duale. Nous devons donc récupérer toutes ces infromations. De plus, dans certains cas , nous travaillons avec un tas min binaire, par conséquent, nous n'utilisons pas les mêmes méthodes pour recupérer le noeud à traiter. Il faut aussi diiférencier le cas de la première itération. En effet, dans ce cas nous récupérons seulement l'indice du noeud à traité, le noeud racine.\n",
    "\n",
    "Deuxièmement, nous n'avons cette fois pas besoin de calculer la borne duale pour les nouvelles méthodes. En effet, celles-ci ont déjà été calculés lors de la création des noeuds. Nous devons encore différencier le cas de la première itération. En effet, lors de la première itération nous récupérons que l'indice du noeud, nous devons donc calculer la borne duale.\n",
    "\n",
    "Voici la nouvelle implémentation de **recuperationNoeud** en python : "
   ]
  },
  {
   "cell_type": "code",
   "execution_count": 178,
   "metadata": {},
   "outputs": [],
   "source": [
    "def recuperationNoeud(arbre,explo,k,borne_duale,instance):\n",
    "    #methode meilleur d'abord\n",
    "    if(explo == best_first_method):\n",
    "            Pk = heappop(arbre.indice_noeuds_non_traites)\n",
    "            if(k!=1):\n",
    "                zD=Pk[0] ; isOptimal=Pk[1] ; solution=Pk[2] ; Pk=Pk[3]\n",
    "    #methode mixte\n",
    "    elif(explo == mixed_method):\n",
    "        if(arbre.first_update_primal):\n",
    "            Pk = heappop(arbre.indice_noeuds_non_traites)\n",
    "            if(k!=1):\n",
    "                zD=Pk[0] ; isOptimal=Pk[1] ; solution=Pk[2] ; Pk=Pk[3]\n",
    "        else:\n",
    "          Pk = arbre.indice_noeuds_non_traites.pop() \n",
    "          if(k!=1):\n",
    "                zD=Pk[0] ; isOptimal=Pk[1] ; solution=Pk[2] ; Pk=Pk[3]\n",
    "    #autres methode d'exploration\n",
    "    else:\n",
    "        Pk = arbre.indice_noeuds_non_traites.pop()\n",
    "\n",
    "    arbre.nombre_noeuds_non_traites-=1\n",
    "    \n",
    "    #Calcul de la borne dual de Pk\n",
    "    if(explo not in [best_first_method,mixed_method] or k==1):\n",
    "        zD, isOptimal, solution  = borne_duale(arbre.noeuds[Pk],instance)\n",
    "    #isOptimal == pos du noeud\n",
    "    #Zd c'est le premier element de heapop\n",
    "    return Pk, zD, isOptimal, solution"
   ]
  },
  {
   "cell_type": "markdown",
   "metadata": {},
   "source": [
    "Nous avons maintenant terminé de rédéfinir les éléments dont nous avons besoin afin d'implémenter nos 2 nouvelles méthodes d'exploration. Par conséquent, comme avec les précédentes méthodes, nous allons les tester sur l'exemple simple du problème traité dans les parties précédentes avec les méthodes 1 et 2. "
   ]
  },
  {
   "cell_type": "markdown",
   "metadata": {},
   "source": [
    "![title](Exemple.PNG)"
   ]
  },
  {
   "cell_type": "markdown",
   "metadata": {},
   "source": [
    "Voici nos résultats : "
   ]
  },
  {
   "cell_type": "code",
   "execution_count": 184,
   "metadata": {},
   "outputs": [
    {
     "name": "stdout",
     "output_type": "stream",
     "text": [
      "\n",
      "SOLUTION OBTENUE PLNE:\n",
      "\n",
      "Solve with CBC, Status: Optimal\n",
      "Total des pénalités: 67.0\n",
      "Ordre d'usinage des pièces: [0, 1, 3, 2]\n",
      "Temps exécution pulp:  0.023859739303588867 s\n",
      "\n",
      "\n",
      "SOLUTION OBTENUE B&B METHODE 1 ( Meilleur d'abord ) : \n",
      "\n",
      "z =  67 , x =  [0, 1, 3, 2]\n",
      "Temps exécution B&B:  0.0 s\n",
      "Nombre d'itérations:  24\n",
      "\n",
      "\n",
      "SOLUTION OBTENUE B&B METHODE 1 ( Méthode mixte ) : \n",
      "\n",
      "z =  67 , x =  [0, 1, 3, 2]\n",
      "Temps exécution B&B:  0.0009970664978027344 s\n",
      "Nombre d'itérations:  32\n",
      "\n",
      "\n",
      "SOLUTION OBTENUE B&B METHODE 2 ( Meilleur d'abord ) : \n",
      "\n",
      "z =  67 , x =  [0, 1, 3, 2]\n",
      "Temps exécution B&B:  0.0 s\n",
      "Nombre d'itérations:  11\n",
      "\n",
      "\n",
      "SOLUTION OBTENUE B&B METHODE 2 ( Méthode mixte ) : \n",
      "\n",
      "z =  67 , x =  [0, 1, 3, 2]\n",
      "Temps exécution B&B:  0.0 s\n",
      "Nombre d'itérations:  14\n"
     ]
    }
   ],
   "source": [
    "#Resolution PLNE\n",
    "t1_plne = time.time()\n",
    "Exemple.resolutionPLNE()\n",
    "t2_plne = time.time()\n",
    "print(\"Temps exécution pulp: \",t2_plne-t1_plne,\"s\")\n",
    "\n",
    "#Méthode 1 avec meilleur d'abord :\n",
    "t1_bb1 = time.time()\n",
    "z1,x1,k1 = branch_and_bound(Exemple,primale1,borne_duale1,Branchement1,best_first_method)\n",
    "t2_bb1 = time.time()\n",
    "\n",
    "print(\"\\n\\nSOLUTION OBTENUE B&B METHODE 1 ( Meilleur d'abord ) : \\n\\nz = \",z1,\", x = \",x1)\n",
    "print(\"Temps exécution B&B: \",t2_bb1-t1_bb1,\"s\")\n",
    "print(\"Nombre d'itérations: \",k1)\n",
    "\n",
    "#Méthode 1 avec methode mixte:\n",
    "t1_bb2 = time.time()\n",
    "z2,x2,k2 = branch_and_bound(Exemple,primale1,borne_duale1,Branchement1,mixed_method)\n",
    "t2_bb2 = time.time()\n",
    "\n",
    "print(\"\\n\\nSOLUTION OBTENUE B&B METHODE 1 ( Méthode mixte ) : \\n\\nz = \",z2,\", x = \",x2)\n",
    "print(\"Temps exécution B&B: \",t2_bb2-t1_bb2,\"s\")\n",
    "print(\"Nombre d'itérations: \",k2)\n",
    "\n",
    "#Méthode 2 avec meilleur d'abord:\n",
    "t1_bb3 = time.time()\n",
    "z3,x3,k3 = branch_and_bound(Exemple,primale1,borne_duale2,Branchement2,best_first_method)\n",
    "t2_bb3 = time.time()\n",
    "\n",
    "print(\"\\n\\nSOLUTION OBTENUE B&B METHODE 2 ( Meilleur d'abord ) : \\n\\nz = \",z3,\", x = \",x3)\n",
    "print(\"Temps exécution B&B: \",t2_bb3-t1_bb3,\"s\")\n",
    "print(\"Nombre d'itérations: \",k3)\n",
    "\n",
    "#Méthode 2 avec la méthode mixte:\n",
    "t1_bb4 = time.time()\n",
    "z4,x4,k4 = branch_and_bound(Exemple,primale1,borne_duale2,Branchement2,mixed_method)\n",
    "t2_bb4 = time.time()\n",
    "\n",
    "print(\"\\n\\nSOLUTION OBTENUE B&B METHODE 2 ( Méthode mixte ) : \\n\\nz = \",z4,\", x = \",x4)\n",
    "print(\"Temps exécution B&B: \",t2_bb4-t1_bb4,\"s\")\n",
    "print(\"Nombre d'itérations: \",k4)"
   ]
  },
  {
   "cell_type": "markdown",
   "metadata": {},
   "source": [
    "Nous remarquons que les 2 nouvelles méthodes d'exploration associées aux méthodes 1 et 2 donnent le bonne valeur optimale. Nos méthodes d'exploration ont donc l'air de fonctionner, nous les retesterons plus tard sur des exemples plus compliqués."
   ]
  },
  {
   "cell_type": "markdown",
   "metadata": {},
   "source": [
    "### d) Nouvelles méthodes pour les bornes primales"
   ]
  },
  {
   "cell_type": "markdown",
   "metadata": {},
   "source": []
  },
  {
   "cell_type": "markdown",
   "metadata": {},
   "source": [
    "### e) Analyse des résultats"
   ]
  },
  {
   "cell_type": "markdown",
   "metadata": {},
   "source": [
    "## IV - Visualisation du parcours de l'arbre de branchement lors de l'exécution de l'algorithme de Branch-And-Bound"
   ]
  },
  {
   "cell_type": "markdown",
   "metadata": {},
   "source": [
    "    TO DO"
   ]
  },
  {
   "cell_type": "markdown",
   "metadata": {},
   "source": [
    "## V - Ajout de contraintes de précédence sur les pièces au problème d'ordonnancement "
   ]
  },
  {
   "cell_type": "markdown",
   "metadata": {},
   "source": [
    "    TO DO"
   ]
  },
  {
   "cell_type": "markdown",
   "metadata": {},
   "source": [
    "## Conclusion "
   ]
  },
  {
   "cell_type": "markdown",
   "metadata": {},
   "source": [
    "    TO DO"
   ]
  }
 ],
 "metadata": {
  "kernelspec": {
   "display_name": "Python 3",
   "language": "python",
   "name": "python3"
  },
  "language_info": {
   "codemirror_mode": {
    "name": "ipython",
    "version": 3
   },
   "file_extension": ".py",
   "mimetype": "text/x-python",
   "name": "python",
   "nbconvert_exporter": "python",
   "pygments_lexer": "ipython3",
   "version": "3.7.4"
  }
 },
 "nbformat": 4,
 "nbformat_minor": 2
}
