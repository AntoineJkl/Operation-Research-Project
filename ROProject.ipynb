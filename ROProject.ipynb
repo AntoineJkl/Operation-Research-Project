{
 "cells": [
  {
   "cell_type": "markdown",
   "metadata": {},
   "source": [
    "# Projet Recherche Opérationnelle"
   ]
  },
  {
   "cell_type": "markdown",
   "metadata": {},
   "source": [
    "Antoine GICQUEL \\\n",
    "Victor BERTRET \\\n",
    "4ème année Génie Mathématique \\\n",
    "Annéé universitaire 2020 - 2021"
   ]
  },
  {
   "cell_type": "markdown",
   "metadata": {},
   "source": [
    "*Importation des packages nécessaires:*"
   ]
  },
  {
   "cell_type": "code",
   "execution_count": 1,
   "metadata": {},
   "outputs": [],
   "source": [
    "from pulp import* #Package pulp : résolution de modèles PLNE"
   ]
  },
  {
   "cell_type": "markdown",
   "metadata": {},
   "source": [
    "## Introduction"
   ]
  },
  {
   "cell_type": "markdown",
   "metadata": {},
   "source": [
    "Ce projet a été réalisé dans le cadre du module de Recherche Opérationnelle de notre formation d'ingénieur au département Génie Mathématique de l'INSA de Rennes. L'objectif de ce projet était d'étudier le fonctionnement algorithme de Branch-and-Bound appliqué au problème d'ordonnancement qui est le suivant. On considère un atelier de production devant usiner un ensemble $J = {1,...,n}$ de pièces. On suppose que l'atelier ne dispose que d'une machine (le problème peut tout à fait être étendu au cas où l'atelier dispose de plusieurs machines). Chaque pièce $j\\in J$ nécessite $p_j$ unités de temps pour être usinée. De plus, à la date $t=0$, chaque pièce $j\\in J$ doit être usinée avant la date $d_j$. Si ce n'est pas le cas et que la pièce $j$ est prête après la date $d_j$ alors il faudra payer une pénalité de $\\omega_j$ par unité de temps de retard. On cherche à trouver l'ordre d'usinage des pièces minimisant la somme totale des pénalités de retard. \\\n",
    "Notons dés maintenant que ce problème peut être modélisé sous la forme d'un problème linéaire en nombres entiers que nous avons explicité ici :\n",
    "\n",
    "\n",
    "**Variables:**\n",
    "\n",
    " * $\\forall j \\in J, r_j \\ge 0$ est une variable réelle positive représentant le retard en unité de temps de la pièce $j$\n",
    " \n",
    " * $\\forall j \\in J, f_j \\ge 0$ est une variable réelle positive représentant la date de fin d'usinage de la pièce $j$\n",
    " \n",
    " * $\\forall (i,j)\\in J^2$, $x_{i,j} \\in \\{0,1\\}$ est une variable binaire prenant la valeur $1$ si la pièce $i$ passe avant la pièce $j$ et $0$ sinon\n",
    "\n",
    "**Objectif:**\n",
    "\n",
    "* On cherche à minimiser les pénalités de retard :\n",
    "\n",
    "$$ \\min{\\sum_{j\\in J}{\\omega_j r_j}}$$\n",
    "\n",
    "**Contraintes:**\n",
    "\n",
    "* On impose la contrainte suivante pour calculer le retard de chaque pièce :\n",
    "$$ r_j \\ge f_j - d_j,\\quad \\forall j \\in J$$\n",
    "\n",
    "* On impose la contrainte suivatne pour calculer la date de fin d'usinage de chaque pièce :\n",
    "$$ f_j = T_j + \\sum_{i \\in J}{T_i x_{ij}} \\quad \\forall j \\in J$$\n",
    "\n",
    "* On impose enfin une relation d'ordre total sur le passage des pièces :\n",
    "$$ x_{ij} + x_{ji} = 1 \\quad \\forall (i,j) \\in J^2, \\: i < j$$\n",
    "$$ x_{ik} \\ge x_{ij} + x_{jk}-1\\quad \\forall (i,j,k) \\in J^3, \\: i<j, \\: i<k, j\\neq k$$\n",
    "\n",
    "\\\n",
    "Nos implémentations ont été réalisé sous Python et nous avons fait appel (lorsque c'était nécessaire) au package PuLP pour résoudres des modèles de PLNE.\n",
    "\n",
    "Nous avons dans un premier temps créée une structure de données permettant de représenter une instance du problème d'ordonnacement présenté ci-dessus. Nous avons ensuite créée une structure de données générique pour l'arbre d'énumération qui sera utilisé dans l'algorithme de Branch-and-Bound. Avec celle-ci, nous avons par la suite, implémenté l'algorithme de Branch-and-bound de manière générique en fragmentant ses différentes spécificités dans des sous-fonctions, ceci nous a notament permis de tester plusieurs méthodes pour chacune d'entre elles et ainsi comparer leurs performances sur des instances du problème d'ordonnancement. Les résultats et analyses de nos tests sont détaillés dans ce notebook. Enfin nous avons programmé des fonctions permettant de visualiser le parcours de l'arbre de branchement de l'algorithme de Branch-And-Bound selon les méthodes utilisées. Nous présenterons également une résolution de l'extension du problème d'ordonnancement dans laquelle on ajoute des contraintes de précédence entre certaines paires de pièces à usiner."
   ]
  },
  {
   "cell_type": "markdown",
   "metadata": {},
   "source": [
    "## I - Structure de données générique pour la problème d'ordonnancement"
   ]
  },
  {
   "cell_type": "markdown",
   "metadata": {},
   "source": [
    "    TO DO"
   ]
  },
  {
   "cell_type": "markdown",
   "metadata": {},
   "source": [
    "## II - Structure de données générique pour l'arbre d'énumération de l'algorithme de Branch-And-Bound"
   ]
  },
  {
   "cell_type": "markdown",
   "metadata": {},
   "source": [
    "    TO DO"
   ]
  },
  {
   "cell_type": "markdown",
   "metadata": {},
   "source": [
    "## III - Implémentation de l'algorithme de Branch-And-Bound dans le cadre du problème d'ordonnancement"
   ]
  },
  {
   "cell_type": "markdown",
   "metadata": {},
   "source": [
    "### a) Méthode 1 *(à détailler )* \n",
    "    TO DO\n",
    "### b) Méthode 2 *(à détailler )*\n",
    "    TO DO\n",
    "### etc..."
   ]
  },
  {
   "cell_type": "markdown",
   "metadata": {},
   "source": [
    "## IV - Visualisation du parcours de l'arbre de branchement lors de l'exécution de l'algorithme de Branch-And-Bound"
   ]
  },
  {
   "cell_type": "markdown",
   "metadata": {},
   "source": [
    "    TO DO"
   ]
  },
  {
   "cell_type": "markdown",
   "metadata": {},
   "source": [
    "## V - Ajout de contraintes de précédence sur les pièces au problème d'ordonnancement "
   ]
  },
  {
   "cell_type": "markdown",
   "metadata": {},
   "source": [
    "    TO DO"
   ]
  },
  {
   "cell_type": "markdown",
   "metadata": {},
   "source": [
    "## Conclusion "
   ]
  },
  {
   "cell_type": "markdown",
   "metadata": {},
   "source": [
    "    TO DO"
   ]
  }
 ],
 "metadata": {
  "kernelspec": {
   "display_name": "Python 3",
   "language": "python",
   "name": "python3"
  },
  "language_info": {
   "codemirror_mode": {
    "name": "ipython",
    "version": 3
   },
   "file_extension": ".py",
   "mimetype": "text/x-python",
   "name": "python",
   "nbconvert_exporter": "python",
   "pygments_lexer": "ipython3",
   "version": "3.7.4"
  }
 },
 "nbformat": 4,
 "nbformat_minor": 2
}
